{
 "cells": [
  {
   "cell_type": "markdown",
   "id": "f03efe29",
   "metadata": {
    "deletable": false,
    "editable": false,
    "id": "c81daeeb"
   },
   "source": [
    "# Исследование надежности заемщиков\n"
   ]
  },
  {
   "cell_type": "markdown",
   "id": "e2578470",
   "metadata": {
    "deletable": false,
    "editable": false,
    "id": "827c20bf"
   },
   "source": [
    "Во второй части проекта вы выполните шаги 3 и 4. Их вручную проверит ревьюер.\n",
    "Чтобы вам не пришлось писать код заново для шагов 1 и 2, мы добавили авторские решения в ячейки с кодом. \n",
    "\n"
   ]
  },
  {
   "cell_type": "markdown",
   "id": "a04d1e49",
   "metadata": {
    "deletable": false,
    "editable": false,
    "id": "744d7639"
   },
   "source": [
    "## Откройте таблицу и изучите общую информацию о данных"
   ]
  },
  {
   "cell_type": "markdown",
   "id": "b48ca1d2",
   "metadata": {
    "deletable": false,
    "editable": false,
    "id": "e7a14c31"
   },
   "source": [
    "**Задание 1. Импортируйте библиотеку pandas. Считайте данные из csv-файла в датафрейм и сохраните в переменную `data`. Путь к файлу:**\n",
    "\n",
    "`/datasets/data.csv`"
   ]
  },
  {
   "cell_type": "code",
   "execution_count": 1,
   "id": "e3b28703",
   "metadata": {
    "deletable": false,
    "id": "7bcf75c9"
   },
   "outputs": [],
   "source": [
    "import pandas as pd\n",
    "\n",
    "try:\n",
    "    data = pd.read_csv('/datasets/data.csv')\n",
    "except:\n",
    "    data = pd.read_csv('https://code.s3.yandex.net/datasets/data.csv')"
   ]
  },
  {
   "cell_type": "markdown",
   "id": "249b07e3",
   "metadata": {
    "deletable": false,
    "editable": false,
    "id": "b8038fe3"
   },
   "source": [
    "**Задание 2. Выведите первые 20 строчек датафрейма `data` на экран.**"
   ]
  },
  {
   "cell_type": "code",
   "execution_count": 2,
   "id": "393e01e5",
   "metadata": {
    "deletable": false,
    "id": "2a7cab99",
    "outputId": "1a8f3ef2-d323-4ec2-ddf7-89670b5944c4"
   },
   "outputs": [
    {
     "data": {
      "text/html": [
       "<div>\n",
       "<style scoped>\n",
       "    .dataframe tbody tr th:only-of-type {\n",
       "        vertical-align: middle;\n",
       "    }\n",
       "\n",
       "    .dataframe tbody tr th {\n",
       "        vertical-align: top;\n",
       "    }\n",
       "\n",
       "    .dataframe thead th {\n",
       "        text-align: right;\n",
       "    }\n",
       "</style>\n",
       "<table border=\"1\" class=\"dataframe\">\n",
       "  <thead>\n",
       "    <tr style=\"text-align: right;\">\n",
       "      <th></th>\n",
       "      <th>children</th>\n",
       "      <th>days_employed</th>\n",
       "      <th>dob_years</th>\n",
       "      <th>education</th>\n",
       "      <th>education_id</th>\n",
       "      <th>family_status</th>\n",
       "      <th>family_status_id</th>\n",
       "      <th>gender</th>\n",
       "      <th>income_type</th>\n",
       "      <th>debt</th>\n",
       "      <th>total_income</th>\n",
       "      <th>purpose</th>\n",
       "    </tr>\n",
       "  </thead>\n",
       "  <tbody>\n",
       "    <tr>\n",
       "      <th>0</th>\n",
       "      <td>1</td>\n",
       "      <td>-8437.673028</td>\n",
       "      <td>42</td>\n",
       "      <td>высшее</td>\n",
       "      <td>0</td>\n",
       "      <td>женат / замужем</td>\n",
       "      <td>0</td>\n",
       "      <td>F</td>\n",
       "      <td>сотрудник</td>\n",
       "      <td>0</td>\n",
       "      <td>253875.639453</td>\n",
       "      <td>покупка жилья</td>\n",
       "    </tr>\n",
       "    <tr>\n",
       "      <th>1</th>\n",
       "      <td>1</td>\n",
       "      <td>-4024.803754</td>\n",
       "      <td>36</td>\n",
       "      <td>среднее</td>\n",
       "      <td>1</td>\n",
       "      <td>женат / замужем</td>\n",
       "      <td>0</td>\n",
       "      <td>F</td>\n",
       "      <td>сотрудник</td>\n",
       "      <td>0</td>\n",
       "      <td>112080.014102</td>\n",
       "      <td>приобретение автомобиля</td>\n",
       "    </tr>\n",
       "    <tr>\n",
       "      <th>2</th>\n",
       "      <td>0</td>\n",
       "      <td>-5623.422610</td>\n",
       "      <td>33</td>\n",
       "      <td>Среднее</td>\n",
       "      <td>1</td>\n",
       "      <td>женат / замужем</td>\n",
       "      <td>0</td>\n",
       "      <td>M</td>\n",
       "      <td>сотрудник</td>\n",
       "      <td>0</td>\n",
       "      <td>145885.952297</td>\n",
       "      <td>покупка жилья</td>\n",
       "    </tr>\n",
       "    <tr>\n",
       "      <th>3</th>\n",
       "      <td>3</td>\n",
       "      <td>-4124.747207</td>\n",
       "      <td>32</td>\n",
       "      <td>среднее</td>\n",
       "      <td>1</td>\n",
       "      <td>женат / замужем</td>\n",
       "      <td>0</td>\n",
       "      <td>M</td>\n",
       "      <td>сотрудник</td>\n",
       "      <td>0</td>\n",
       "      <td>267628.550329</td>\n",
       "      <td>дополнительное образование</td>\n",
       "    </tr>\n",
       "    <tr>\n",
       "      <th>4</th>\n",
       "      <td>0</td>\n",
       "      <td>340266.072047</td>\n",
       "      <td>53</td>\n",
       "      <td>среднее</td>\n",
       "      <td>1</td>\n",
       "      <td>гражданский брак</td>\n",
       "      <td>1</td>\n",
       "      <td>F</td>\n",
       "      <td>пенсионер</td>\n",
       "      <td>0</td>\n",
       "      <td>158616.077870</td>\n",
       "      <td>сыграть свадьбу</td>\n",
       "    </tr>\n",
       "    <tr>\n",
       "      <th>5</th>\n",
       "      <td>0</td>\n",
       "      <td>-926.185831</td>\n",
       "      <td>27</td>\n",
       "      <td>высшее</td>\n",
       "      <td>0</td>\n",
       "      <td>гражданский брак</td>\n",
       "      <td>1</td>\n",
       "      <td>M</td>\n",
       "      <td>компаньон</td>\n",
       "      <td>0</td>\n",
       "      <td>255763.565419</td>\n",
       "      <td>покупка жилья</td>\n",
       "    </tr>\n",
       "    <tr>\n",
       "      <th>6</th>\n",
       "      <td>0</td>\n",
       "      <td>-2879.202052</td>\n",
       "      <td>43</td>\n",
       "      <td>высшее</td>\n",
       "      <td>0</td>\n",
       "      <td>женат / замужем</td>\n",
       "      <td>0</td>\n",
       "      <td>F</td>\n",
       "      <td>компаньон</td>\n",
       "      <td>0</td>\n",
       "      <td>240525.971920</td>\n",
       "      <td>операции с жильем</td>\n",
       "    </tr>\n",
       "    <tr>\n",
       "      <th>7</th>\n",
       "      <td>0</td>\n",
       "      <td>-152.779569</td>\n",
       "      <td>50</td>\n",
       "      <td>СРЕДНЕЕ</td>\n",
       "      <td>1</td>\n",
       "      <td>женат / замужем</td>\n",
       "      <td>0</td>\n",
       "      <td>M</td>\n",
       "      <td>сотрудник</td>\n",
       "      <td>0</td>\n",
       "      <td>135823.934197</td>\n",
       "      <td>образование</td>\n",
       "    </tr>\n",
       "    <tr>\n",
       "      <th>8</th>\n",
       "      <td>2</td>\n",
       "      <td>-6929.865299</td>\n",
       "      <td>35</td>\n",
       "      <td>ВЫСШЕЕ</td>\n",
       "      <td>0</td>\n",
       "      <td>гражданский брак</td>\n",
       "      <td>1</td>\n",
       "      <td>F</td>\n",
       "      <td>сотрудник</td>\n",
       "      <td>0</td>\n",
       "      <td>95856.832424</td>\n",
       "      <td>на проведение свадьбы</td>\n",
       "    </tr>\n",
       "    <tr>\n",
       "      <th>9</th>\n",
       "      <td>0</td>\n",
       "      <td>-2188.756445</td>\n",
       "      <td>41</td>\n",
       "      <td>среднее</td>\n",
       "      <td>1</td>\n",
       "      <td>женат / замужем</td>\n",
       "      <td>0</td>\n",
       "      <td>M</td>\n",
       "      <td>сотрудник</td>\n",
       "      <td>0</td>\n",
       "      <td>144425.938277</td>\n",
       "      <td>покупка жилья для семьи</td>\n",
       "    </tr>\n",
       "    <tr>\n",
       "      <th>10</th>\n",
       "      <td>2</td>\n",
       "      <td>-4171.483647</td>\n",
       "      <td>36</td>\n",
       "      <td>высшее</td>\n",
       "      <td>0</td>\n",
       "      <td>женат / замужем</td>\n",
       "      <td>0</td>\n",
       "      <td>M</td>\n",
       "      <td>компаньон</td>\n",
       "      <td>0</td>\n",
       "      <td>113943.491460</td>\n",
       "      <td>покупка недвижимости</td>\n",
       "    </tr>\n",
       "    <tr>\n",
       "      <th>11</th>\n",
       "      <td>0</td>\n",
       "      <td>-792.701887</td>\n",
       "      <td>40</td>\n",
       "      <td>среднее</td>\n",
       "      <td>1</td>\n",
       "      <td>женат / замужем</td>\n",
       "      <td>0</td>\n",
       "      <td>F</td>\n",
       "      <td>сотрудник</td>\n",
       "      <td>0</td>\n",
       "      <td>77069.234271</td>\n",
       "      <td>покупка коммерческой недвижимости</td>\n",
       "    </tr>\n",
       "    <tr>\n",
       "      <th>12</th>\n",
       "      <td>0</td>\n",
       "      <td>NaN</td>\n",
       "      <td>65</td>\n",
       "      <td>среднее</td>\n",
       "      <td>1</td>\n",
       "      <td>гражданский брак</td>\n",
       "      <td>1</td>\n",
       "      <td>M</td>\n",
       "      <td>пенсионер</td>\n",
       "      <td>0</td>\n",
       "      <td>NaN</td>\n",
       "      <td>сыграть свадьбу</td>\n",
       "    </tr>\n",
       "    <tr>\n",
       "      <th>13</th>\n",
       "      <td>0</td>\n",
       "      <td>-1846.641941</td>\n",
       "      <td>54</td>\n",
       "      <td>неоконченное высшее</td>\n",
       "      <td>2</td>\n",
       "      <td>женат / замужем</td>\n",
       "      <td>0</td>\n",
       "      <td>F</td>\n",
       "      <td>сотрудник</td>\n",
       "      <td>0</td>\n",
       "      <td>130458.228857</td>\n",
       "      <td>приобретение автомобиля</td>\n",
       "    </tr>\n",
       "    <tr>\n",
       "      <th>14</th>\n",
       "      <td>0</td>\n",
       "      <td>-1844.956182</td>\n",
       "      <td>56</td>\n",
       "      <td>высшее</td>\n",
       "      <td>0</td>\n",
       "      <td>гражданский брак</td>\n",
       "      <td>1</td>\n",
       "      <td>F</td>\n",
       "      <td>компаньон</td>\n",
       "      <td>1</td>\n",
       "      <td>165127.911772</td>\n",
       "      <td>покупка жилой недвижимости</td>\n",
       "    </tr>\n",
       "    <tr>\n",
       "      <th>15</th>\n",
       "      <td>1</td>\n",
       "      <td>-972.364419</td>\n",
       "      <td>26</td>\n",
       "      <td>среднее</td>\n",
       "      <td>1</td>\n",
       "      <td>женат / замужем</td>\n",
       "      <td>0</td>\n",
       "      <td>F</td>\n",
       "      <td>сотрудник</td>\n",
       "      <td>0</td>\n",
       "      <td>116820.904450</td>\n",
       "      <td>строительство собственной недвижимости</td>\n",
       "    </tr>\n",
       "    <tr>\n",
       "      <th>16</th>\n",
       "      <td>0</td>\n",
       "      <td>-1719.934226</td>\n",
       "      <td>35</td>\n",
       "      <td>среднее</td>\n",
       "      <td>1</td>\n",
       "      <td>женат / замужем</td>\n",
       "      <td>0</td>\n",
       "      <td>F</td>\n",
       "      <td>сотрудник</td>\n",
       "      <td>0</td>\n",
       "      <td>289202.704229</td>\n",
       "      <td>недвижимость</td>\n",
       "    </tr>\n",
       "    <tr>\n",
       "      <th>17</th>\n",
       "      <td>0</td>\n",
       "      <td>-2369.999720</td>\n",
       "      <td>33</td>\n",
       "      <td>высшее</td>\n",
       "      <td>0</td>\n",
       "      <td>гражданский брак</td>\n",
       "      <td>1</td>\n",
       "      <td>M</td>\n",
       "      <td>сотрудник</td>\n",
       "      <td>0</td>\n",
       "      <td>90410.586745</td>\n",
       "      <td>строительство недвижимости</td>\n",
       "    </tr>\n",
       "    <tr>\n",
       "      <th>18</th>\n",
       "      <td>0</td>\n",
       "      <td>400281.136913</td>\n",
       "      <td>53</td>\n",
       "      <td>среднее</td>\n",
       "      <td>1</td>\n",
       "      <td>вдовец / вдова</td>\n",
       "      <td>2</td>\n",
       "      <td>F</td>\n",
       "      <td>пенсионер</td>\n",
       "      <td>0</td>\n",
       "      <td>56823.777243</td>\n",
       "      <td>на покупку подержанного автомобиля</td>\n",
       "    </tr>\n",
       "    <tr>\n",
       "      <th>19</th>\n",
       "      <td>0</td>\n",
       "      <td>-10038.818549</td>\n",
       "      <td>48</td>\n",
       "      <td>СРЕДНЕЕ</td>\n",
       "      <td>1</td>\n",
       "      <td>в разводе</td>\n",
       "      <td>3</td>\n",
       "      <td>F</td>\n",
       "      <td>сотрудник</td>\n",
       "      <td>0</td>\n",
       "      <td>242831.107982</td>\n",
       "      <td>на покупку своего автомобиля</td>\n",
       "    </tr>\n",
       "  </tbody>\n",
       "</table>\n",
       "</div>"
      ],
      "text/plain": [
       "    children  days_employed  dob_years            education  education_id  \\\n",
       "0          1   -8437.673028         42               высшее             0   \n",
       "1          1   -4024.803754         36              среднее             1   \n",
       "2          0   -5623.422610         33              Среднее             1   \n",
       "3          3   -4124.747207         32              среднее             1   \n",
       "4          0  340266.072047         53              среднее             1   \n",
       "5          0    -926.185831         27               высшее             0   \n",
       "6          0   -2879.202052         43               высшее             0   \n",
       "7          0    -152.779569         50              СРЕДНЕЕ             1   \n",
       "8          2   -6929.865299         35               ВЫСШЕЕ             0   \n",
       "9          0   -2188.756445         41              среднее             1   \n",
       "10         2   -4171.483647         36               высшее             0   \n",
       "11         0    -792.701887         40              среднее             1   \n",
       "12         0            NaN         65              среднее             1   \n",
       "13         0   -1846.641941         54  неоконченное высшее             2   \n",
       "14         0   -1844.956182         56               высшее             0   \n",
       "15         1    -972.364419         26              среднее             1   \n",
       "16         0   -1719.934226         35              среднее             1   \n",
       "17         0   -2369.999720         33               высшее             0   \n",
       "18         0  400281.136913         53              среднее             1   \n",
       "19         0  -10038.818549         48              СРЕДНЕЕ             1   \n",
       "\n",
       "       family_status  family_status_id gender income_type  debt  \\\n",
       "0    женат / замужем                 0      F   сотрудник     0   \n",
       "1    женат / замужем                 0      F   сотрудник     0   \n",
       "2    женат / замужем                 0      M   сотрудник     0   \n",
       "3    женат / замужем                 0      M   сотрудник     0   \n",
       "4   гражданский брак                 1      F   пенсионер     0   \n",
       "5   гражданский брак                 1      M   компаньон     0   \n",
       "6    женат / замужем                 0      F   компаньон     0   \n",
       "7    женат / замужем                 0      M   сотрудник     0   \n",
       "8   гражданский брак                 1      F   сотрудник     0   \n",
       "9    женат / замужем                 0      M   сотрудник     0   \n",
       "10   женат / замужем                 0      M   компаньон     0   \n",
       "11   женат / замужем                 0      F   сотрудник     0   \n",
       "12  гражданский брак                 1      M   пенсионер     0   \n",
       "13   женат / замужем                 0      F   сотрудник     0   \n",
       "14  гражданский брак                 1      F   компаньон     1   \n",
       "15   женат / замужем                 0      F   сотрудник     0   \n",
       "16   женат / замужем                 0      F   сотрудник     0   \n",
       "17  гражданский брак                 1      M   сотрудник     0   \n",
       "18    вдовец / вдова                 2      F   пенсионер     0   \n",
       "19         в разводе                 3      F   сотрудник     0   \n",
       "\n",
       "     total_income                                 purpose  \n",
       "0   253875.639453                           покупка жилья  \n",
       "1   112080.014102                 приобретение автомобиля  \n",
       "2   145885.952297                           покупка жилья  \n",
       "3   267628.550329              дополнительное образование  \n",
       "4   158616.077870                         сыграть свадьбу  \n",
       "5   255763.565419                           покупка жилья  \n",
       "6   240525.971920                       операции с жильем  \n",
       "7   135823.934197                             образование  \n",
       "8    95856.832424                   на проведение свадьбы  \n",
       "9   144425.938277                 покупка жилья для семьи  \n",
       "10  113943.491460                    покупка недвижимости  \n",
       "11   77069.234271       покупка коммерческой недвижимости  \n",
       "12            NaN                         сыграть свадьбу  \n",
       "13  130458.228857                 приобретение автомобиля  \n",
       "14  165127.911772              покупка жилой недвижимости  \n",
       "15  116820.904450  строительство собственной недвижимости  \n",
       "16  289202.704229                            недвижимость  \n",
       "17   90410.586745              строительство недвижимости  \n",
       "18   56823.777243      на покупку подержанного автомобиля  \n",
       "19  242831.107982            на покупку своего автомобиля  "
      ]
     },
     "execution_count": 2,
     "metadata": {},
     "output_type": "execute_result"
    }
   ],
   "source": [
    "data.head(20)"
   ]
  },
  {
   "cell_type": "markdown",
   "id": "528e9a51",
   "metadata": {
    "deletable": false,
    "editable": false,
    "id": "1c12e233"
   },
   "source": [
    "**Задание 3. Выведите основную информацию о датафрейме с помощью метода `info()`.**"
   ]
  },
  {
   "cell_type": "code",
   "execution_count": 3,
   "id": "49a49f86",
   "metadata": {
    "deletable": false,
    "id": "2b757bca",
    "outputId": "15376089-8dad-46c9-b520-c05248d43158"
   },
   "outputs": [
    {
     "name": "stdout",
     "output_type": "stream",
     "text": [
      "<class 'pandas.core.frame.DataFrame'>\n",
      "RangeIndex: 21525 entries, 0 to 21524\n",
      "Data columns (total 12 columns):\n",
      " #   Column            Non-Null Count  Dtype  \n",
      "---  ------            --------------  -----  \n",
      " 0   children          21525 non-null  int64  \n",
      " 1   days_employed     19351 non-null  float64\n",
      " 2   dob_years         21525 non-null  int64  \n",
      " 3   education         21525 non-null  object \n",
      " 4   education_id      21525 non-null  int64  \n",
      " 5   family_status     21525 non-null  object \n",
      " 6   family_status_id  21525 non-null  int64  \n",
      " 7   gender            21525 non-null  object \n",
      " 8   income_type       21525 non-null  object \n",
      " 9   debt              21525 non-null  int64  \n",
      " 10  total_income      19351 non-null  float64\n",
      " 11  purpose           21525 non-null  object \n",
      "dtypes: float64(2), int64(5), object(5)\n",
      "memory usage: 2.0+ MB\n"
     ]
    }
   ],
   "source": [
    "data.info()"
   ]
  },
  {
   "cell_type": "markdown",
   "id": "0e7ab566",
   "metadata": {
    "deletable": false,
    "editable": false,
    "id": "333ec665"
   },
   "source": [
    "## Предобработка данных"
   ]
  },
  {
   "cell_type": "markdown",
   "id": "d5e10796",
   "metadata": {
    "deletable": false,
    "editable": false,
    "id": "02d92d53"
   },
   "source": [
    "### Удаление пропусков"
   ]
  },
  {
   "cell_type": "markdown",
   "id": "57691335",
   "metadata": {
    "deletable": false,
    "editable": false,
    "id": "cd84967c"
   },
   "source": [
    "**Задание 4. Выведите количество пропущенных значений для каждого столбца. Используйте комбинацию двух методов.**"
   ]
  },
  {
   "cell_type": "code",
   "execution_count": 4,
   "id": "5be6ca40",
   "metadata": {
    "deletable": false,
    "id": "7f9b2309",
    "outputId": "81f4d817-781c-465c-ed15-91ce4446810d"
   },
   "outputs": [
    {
     "data": {
      "text/plain": [
       "children               0\n",
       "days_employed       2174\n",
       "dob_years              0\n",
       "education              0\n",
       "education_id           0\n",
       "family_status          0\n",
       "family_status_id       0\n",
       "gender                 0\n",
       "income_type            0\n",
       "debt                   0\n",
       "total_income        2174\n",
       "purpose                0\n",
       "dtype: int64"
      ]
     },
     "execution_count": 4,
     "metadata": {},
     "output_type": "execute_result"
    }
   ],
   "source": [
    "data.isna().sum()"
   ]
  },
  {
   "cell_type": "markdown",
   "id": "765974ba",
   "metadata": {
    "deletable": false,
    "editable": false,
    "id": "db86e27b"
   },
   "source": [
    "**Задание 5. В двух столбцах есть пропущенные значения. Один из них — `days_employed`. Пропуски в этом столбце вы обработаете на следующем этапе. Другой столбец с пропущенными значениями — `total_income` — хранит данные о доходах. На сумму дохода сильнее всего влияет тип занятости, поэтому заполнить пропуски в этом столбце нужно медианным значением по каждому типу из столбца `income_type`. Например, у человека с типом занятости `сотрудник` пропуск в столбце `total_income` должен быть заполнен медианным доходом среди всех записей с тем же типом.**"
   ]
  },
  {
   "cell_type": "code",
   "execution_count": 5,
   "id": "695d855d",
   "metadata": {
    "deletable": false,
    "id": "42006a93"
   },
   "outputs": [],
   "source": [
    "for t in data['income_type'].unique():\n",
    "    data.loc[(data['income_type'] == t) & (data['total_income'].isna()), 'total_income'] = \\\n",
    "    data.loc[(data['income_type'] == t), 'total_income'].median()"
   ]
  },
  {
   "cell_type": "markdown",
   "id": "32752098",
   "metadata": {
    "deletable": false,
    "editable": false,
    "id": "89da5ece"
   },
   "source": [
    "### Обработка аномальных значений"
   ]
  },
  {
   "cell_type": "markdown",
   "id": "1ed8d124",
   "metadata": {
    "deletable": false,
    "editable": false,
    "id": "57964554"
   },
   "source": [
    "**Задание 6. В данных могут встречаться артефакты (аномалии) — значения, которые не отражают действительность и появились по какой-то ошибке. таким артефактом будет отрицательное количество дней трудового стажа в столбце `days_employed`. Для реальных данных это нормально. Обработайте значения в этом столбце: замените все отрицательные значения положительными с помощью метода `abs()`.**"
   ]
  },
  {
   "cell_type": "code",
   "execution_count": 6,
   "id": "d207ff11",
   "metadata": {
    "deletable": false,
    "id": "f6f055bf"
   },
   "outputs": [],
   "source": [
    "data['days_employed'] = data['days_employed'].abs()"
   ]
  },
  {
   "cell_type": "markdown",
   "id": "2db997f8",
   "metadata": {
    "deletable": false,
    "editable": false,
    "id": "6107dd2f"
   },
   "source": [
    "**Задание 7. Для каждого типа занятости выведите медианное значение трудового стажа `days_employed` в днях.**"
   ]
  },
  {
   "cell_type": "code",
   "execution_count": 7,
   "id": "9c243b42",
   "metadata": {
    "deletable": false,
    "id": "85a5faf6",
    "outputId": "801ef80e-522b-4668-f34e-565af7432bcf"
   },
   "outputs": [
    {
     "data": {
      "text/plain": [
       "income_type\n",
       "безработный        366413.652744\n",
       "в декрете            3296.759962\n",
       "госслужащий          2689.368353\n",
       "компаньон            1547.382223\n",
       "пенсионер          365213.306266\n",
       "предприниматель       520.848083\n",
       "сотрудник            1574.202821\n",
       "студент               578.751554\n",
       "Name: days_employed, dtype: float64"
      ]
     },
     "execution_count": 7,
     "metadata": {},
     "output_type": "execute_result"
    }
   ],
   "source": [
    "data.groupby('income_type')['days_employed'].agg('median')"
   ]
  },
  {
   "cell_type": "markdown",
   "id": "79324b49",
   "metadata": {
    "deletable": false,
    "editable": false,
    "id": "38d1a030"
   },
   "source": [
    "У двух типов (безработные и пенсионеры) получатся аномально большие значения. Исправить такие значения сложно, поэтому оставьте их как есть. Тем более этот столбец не понадобится вам для исследования."
   ]
  },
  {
   "cell_type": "markdown",
   "id": "b4b0637b",
   "metadata": {
    "deletable": false,
    "editable": false,
    "id": "d8a9f147"
   },
   "source": [
    "**Задание 8. Выведите перечень уникальных значений столбца `children`.**"
   ]
  },
  {
   "cell_type": "code",
   "execution_count": 8,
   "id": "99f44439",
   "metadata": {
    "deletable": false,
    "id": "ef5056eb",
    "outputId": "6975b15c-7f95-4697-d16d-a0c79b657b03"
   },
   "outputs": [
    {
     "data": {
      "text/plain": [
       "array([ 1,  0,  3,  2, -1,  4, 20,  5])"
      ]
     },
     "execution_count": 8,
     "metadata": {},
     "output_type": "execute_result"
    }
   ],
   "source": [
    "data['children'].unique()"
   ]
  },
  {
   "cell_type": "markdown",
   "id": "2fc2f647",
   "metadata": {
    "deletable": false,
    "editable": false,
    "id": "40b9ebf2"
   },
   "source": [
    "**Задание 9. В столбце `children` есть два аномальных значения. Удалите строки, в которых встречаются такие аномальные значения из датафрейма `data`.**"
   ]
  },
  {
   "cell_type": "code",
   "execution_count": 9,
   "id": "4505a443",
   "metadata": {
    "deletable": false,
    "id": "3ff9801d"
   },
   "outputs": [],
   "source": [
    "data = data[(data['children'] != -1) & (data['children'] != 20)]"
   ]
  },
  {
   "cell_type": "markdown",
   "id": "d19278c3",
   "metadata": {
    "deletable": false,
    "editable": false,
    "id": "bbc4d0ce"
   },
   "source": [
    "**Задание 10. Ещё раз выведите перечень уникальных значений столбца `children`, чтобы убедиться, что артефакты удалены.**"
   ]
  },
  {
   "cell_type": "code",
   "execution_count": 10,
   "id": "7c4d19ec",
   "metadata": {
    "deletable": false,
    "id": "ad4fa8b7",
    "outputId": "b2097101-d49d-44d9-901b-32a65c9463d1"
   },
   "outputs": [
    {
     "data": {
      "text/plain": [
       "array([1, 0, 3, 2, 4, 5])"
      ]
     },
     "execution_count": 10,
     "metadata": {},
     "output_type": "execute_result"
    }
   ],
   "source": [
    "data['children'].unique()"
   ]
  },
  {
   "cell_type": "markdown",
   "id": "75cd7c01",
   "metadata": {
    "deletable": false,
    "editable": false,
    "id": "75440b63"
   },
   "source": [
    "### Удаление пропусков (продолжение)"
   ]
  },
  {
   "cell_type": "markdown",
   "id": "fcbbdbd1",
   "metadata": {
    "deletable": false,
    "editable": false,
    "id": "f4ea573f"
   },
   "source": [
    "**Задание 11. Заполните пропуски в столбце `days_employed` медианными значениями по каждого типа занятости `income_type`.**"
   ]
  },
  {
   "cell_type": "code",
   "execution_count": 11,
   "id": "1ba744dd",
   "metadata": {
    "deletable": false,
    "id": "af6b1a7e"
   },
   "outputs": [],
   "source": [
    "for t in data['income_type'].unique():\n",
    "    data.loc[(data['income_type'] == t) & (data['days_employed'].isna()), 'days_employed'] = \\\n",
    "    data.loc[(data['income_type'] == t), 'days_employed'].median()"
   ]
  },
  {
   "cell_type": "markdown",
   "id": "c2146679",
   "metadata": {
    "deletable": false,
    "editable": false,
    "id": "2753f40d"
   },
   "source": [
    "**Задание 12. Убедитесь, что все пропуски заполнены. Проверьте себя и ещё раз выведите количество пропущенных значений для каждого столбца с помощью двух методов.**"
   ]
  },
  {
   "cell_type": "code",
   "execution_count": 12,
   "id": "37ed69f3",
   "metadata": {
    "deletable": false,
    "id": "55f78bc2",
    "outputId": "8da1e4e1-358e-4e87-98c9-f261bce0a7b2"
   },
   "outputs": [
    {
     "data": {
      "text/plain": [
       "children            0\n",
       "days_employed       0\n",
       "dob_years           0\n",
       "education           0\n",
       "education_id        0\n",
       "family_status       0\n",
       "family_status_id    0\n",
       "gender              0\n",
       "income_type         0\n",
       "debt                0\n",
       "total_income        0\n",
       "purpose             0\n",
       "dtype: int64"
      ]
     },
     "execution_count": 12,
     "metadata": {},
     "output_type": "execute_result"
    }
   ],
   "source": [
    "data.isna().sum()"
   ]
  },
  {
   "cell_type": "markdown",
   "id": "294f83e6",
   "metadata": {
    "deletable": false,
    "editable": false,
    "id": "ddc81e43"
   },
   "source": [
    "### Изменение типов данных"
   ]
  },
  {
   "cell_type": "markdown",
   "id": "d17a9355",
   "metadata": {
    "deletable": false,
    "editable": false,
    "id": "42d19d24"
   },
   "source": [
    "**Задание 13. Замените вещественный тип данных в столбце `total_income` на целочисленный с помощью метода `astype()`.**"
   ]
  },
  {
   "cell_type": "code",
   "execution_count": 13,
   "id": "aa43ff4f",
   "metadata": {
    "deletable": false,
    "id": "920b65ad"
   },
   "outputs": [],
   "source": [
    "data['total_income'] = data['total_income'].astype(int)"
   ]
  },
  {
   "cell_type": "markdown",
   "id": "5e56f39e",
   "metadata": {
    "deletable": false,
    "editable": false,
    "id": "80c420ba"
   },
   "source": [
    "### Обработка дубликатов"
   ]
  },
  {
   "cell_type": "markdown",
   "id": "986b7536",
   "metadata": {
    "deletable": false,
    "editable": false
   },
   "source": [
    "**Задание 14. Обработайте неявные дубликаты в столбце `education`. В этом столбце есть одни и те же значения, но записанные по-разному: с использованием заглавных и строчных букв. Приведите их к нижнему регистру. Проверьте остальные столбцы.**"
   ]
  },
  {
   "cell_type": "code",
   "execution_count": 14,
   "id": "86477153",
   "metadata": {
    "deletable": false
   },
   "outputs": [],
   "source": [
    "data['education'] = data['education'].str.lower()"
   ]
  },
  {
   "cell_type": "markdown",
   "id": "4e1b945b",
   "metadata": {
    "deletable": false,
    "editable": false,
    "id": "dc587695"
   },
   "source": [
    "**Задание 15. Выведите на экран количество строк-дубликатов в данных. Если такие строки присутствуют, удалите их.**"
   ]
  },
  {
   "cell_type": "code",
   "execution_count": 15,
   "id": "1bc1dc07",
   "metadata": {
    "deletable": false,
    "id": "3ee445e4",
    "outputId": "9684deba-1934-42d1-99e1-cda61740f822"
   },
   "outputs": [
    {
     "data": {
      "text/plain": [
       "71"
      ]
     },
     "execution_count": 15,
     "metadata": {},
     "output_type": "execute_result"
    }
   ],
   "source": [
    "data.duplicated().sum()"
   ]
  },
  {
   "cell_type": "code",
   "execution_count": 16,
   "id": "a5d144b4",
   "metadata": {
    "deletable": false,
    "id": "8575fe05"
   },
   "outputs": [],
   "source": [
    "data = data.drop_duplicates()"
   ]
  },
  {
   "cell_type": "markdown",
   "id": "197ff8ea",
   "metadata": {
    "deletable": false,
    "editable": false,
    "id": "9904cf55"
   },
   "source": [
    "### Категоризация данных"
   ]
  },
  {
   "cell_type": "markdown",
   "id": "e7ada783",
   "metadata": {
    "deletable": false,
    "editable": false,
    "id": "72fcc8a2"
   },
   "source": [
    "**Задание 16. На основании диапазонов, указанных ниже, создайте в датафрейме `data` столбец `total_income_category` с категориями:**\n",
    "\n",
    "- 0–30000 — `'E'`;\n",
    "- 30001–50000 — `'D'`;\n",
    "- 50001–200000 — `'C'`;\n",
    "- 200001–1000000 — `'B'`;\n",
    "- 1000001 и выше — `'A'`.\n",
    "\n",
    "\n",
    "**Например, кредитополучателю с доходом 25000 нужно назначить категорию `'E'`, а клиенту, получающему 235000, — `'B'`. Используйте собственную функцию с именем `categorize_income()` и метод `apply()`.**"
   ]
  },
  {
   "cell_type": "code",
   "execution_count": 17,
   "id": "cd4416be",
   "metadata": {
    "deletable": false,
    "id": "e1771346"
   },
   "outputs": [],
   "source": [
    "def categorize_income(income):\n",
    "    try:\n",
    "        if 0 <= income <= 30000:\n",
    "            return 'E'\n",
    "        elif 30001 <= income <= 50000:\n",
    "            return 'D'\n",
    "        elif 50001 <= income <= 200000:\n",
    "            return 'C'\n",
    "        elif 200001 <= income <= 1000000:\n",
    "            return 'B'\n",
    "        elif income >= 1000001:\n",
    "            return 'A'\n",
    "    except:\n",
    "        pass"
   ]
  },
  {
   "cell_type": "code",
   "execution_count": 18,
   "id": "ed974f47",
   "metadata": {
    "deletable": false,
    "id": "d5f3586d"
   },
   "outputs": [],
   "source": [
    "data['total_income_category'] = data['total_income'].apply(categorize_income)"
   ]
  },
  {
   "cell_type": "markdown",
   "id": "c4f0ff86",
   "metadata": {
    "deletable": false,
    "editable": false,
    "id": "dde49b5c"
   },
   "source": [
    "**Задание 17. Выведите на экран перечень уникальных целей взятия кредита из столбца `purpose`.**"
   ]
  },
  {
   "cell_type": "code",
   "execution_count": 19,
   "id": "50a37764",
   "metadata": {
    "deletable": false,
    "id": "f67ce9b3",
    "outputId": "673c12d9-7d7e-4ae0-9812-c622c89dd244"
   },
   "outputs": [
    {
     "data": {
      "text/plain": [
       "array(['покупка жилья', 'приобретение автомобиля',\n",
       "       'дополнительное образование', 'сыграть свадьбу',\n",
       "       'операции с жильем', 'образование', 'на проведение свадьбы',\n",
       "       'покупка жилья для семьи', 'покупка недвижимости',\n",
       "       'покупка коммерческой недвижимости', 'покупка жилой недвижимости',\n",
       "       'строительство собственной недвижимости', 'недвижимость',\n",
       "       'строительство недвижимости', 'на покупку подержанного автомобиля',\n",
       "       'на покупку своего автомобиля',\n",
       "       'операции с коммерческой недвижимостью',\n",
       "       'строительство жилой недвижимости', 'жилье',\n",
       "       'операции со своей недвижимостью', 'автомобили',\n",
       "       'заняться образованием', 'сделка с подержанным автомобилем',\n",
       "       'получение образования', 'автомобиль', 'свадьба',\n",
       "       'получение дополнительного образования', 'покупка своего жилья',\n",
       "       'операции с недвижимостью', 'получение высшего образования',\n",
       "       'свой автомобиль', 'сделка с автомобилем',\n",
       "       'профильное образование', 'высшее образование',\n",
       "       'покупка жилья для сдачи', 'на покупку автомобиля', 'ремонт жилью',\n",
       "       'заняться высшим образованием'], dtype=object)"
      ]
     },
     "execution_count": 19,
     "metadata": {},
     "output_type": "execute_result"
    }
   ],
   "source": [
    "data['purpose'].unique()"
   ]
  },
  {
   "cell_type": "markdown",
   "id": "3bbb756b",
   "metadata": {
    "deletable": false,
    "editable": false,
    "id": "85d0aef0"
   },
   "source": [
    "**Задание 18. Создайте функцию, которая на основании данных из столбца `purpose` сформирует новый столбец `purpose_category`, в который войдут следующие категории:**\n",
    "\n",
    "- `'операции с автомобилем'`,\n",
    "- `'операции с недвижимостью'`,\n",
    "- `'проведение свадьбы'`,\n",
    "- `'получение образования'`.\n",
    "\n",
    "**Например, если в столбце `purpose` находится подстрока `'на покупку автомобиля'`, то в столбце `purpose_category` должна появиться строка `'операции с автомобилем'`.**\n",
    "\n",
    "**Используйте собственную функцию с именем `categorize_purpose()` и метод `apply()`. Изучите данные в столбце `purpose` и определите, какие подстроки помогут вам правильно определить категорию.**"
   ]
  },
  {
   "cell_type": "code",
   "execution_count": 20,
   "id": "b03d4c65",
   "metadata": {
    "deletable": false,
    "id": "e149fab4"
   },
   "outputs": [],
   "source": [
    "def categorize_purpose(row):\n",
    "    try:\n",
    "        if 'автом' in row:\n",
    "            return 'операции с автомобилем'\n",
    "        elif 'жил' in row or 'недвиж' in row:\n",
    "            return 'операции с недвижимостью'\n",
    "        elif 'свад' in row:\n",
    "            return 'проведение свадьбы'\n",
    "        elif 'образов' in row:\n",
    "            return 'получение образования'\n",
    "    except:\n",
    "        return 'нет категории'"
   ]
  },
  {
   "cell_type": "code",
   "execution_count": 21,
   "id": "a5d3a364",
   "metadata": {
    "deletable": false,
    "id": "bf36e69b"
   },
   "outputs": [],
   "source": [
    "data['purpose_category'] = data['purpose'].apply(categorize_purpose)"
   ]
  },
  {
   "cell_type": "markdown",
   "id": "96930242",
   "metadata": {
    "deletable": false,
    "editable": false,
    "id": "09b242bf"
   },
   "source": [
    "### Шаг 3. Исследуйте данные и ответьте на вопросы"
   ]
  },
  {
   "cell_type": "markdown",
   "id": "d28ff290",
   "metadata": {
    "deletable": false,
    "editable": false,
    "id": "c5d66278"
   },
   "source": [
    "#### 3.1 Есть ли зависимость между количеством детей и возвратом кредита в срок?"
   ]
  },
  {
   "cell_type": "code",
   "execution_count": 22,
   "id": "ef367484",
   "metadata": {
    "deletable": false,
    "id": "2cacfc4a"
   },
   "outputs": [
    {
     "data": {
      "text/html": [
       "<div>\n",
       "<style scoped>\n",
       "    .dataframe tbody tr th:only-of-type {\n",
       "        vertical-align: middle;\n",
       "    }\n",
       "\n",
       "    .dataframe tbody tr th {\n",
       "        vertical-align: top;\n",
       "    }\n",
       "\n",
       "    .dataframe thead th {\n",
       "        text-align: right;\n",
       "    }\n",
       "</style>\n",
       "<table border=\"1\" class=\"dataframe\">\n",
       "  <thead>\n",
       "    <tr style=\"text-align: right;\">\n",
       "      <th></th>\n",
       "      <th>num_clients</th>\n",
       "      <th>debt_count</th>\n",
       "      <th>debt_rate</th>\n",
       "    </tr>\n",
       "    <tr>\n",
       "      <th>children</th>\n",
       "      <th></th>\n",
       "      <th></th>\n",
       "      <th></th>\n",
       "    </tr>\n",
       "  </thead>\n",
       "  <tbody>\n",
       "    <tr>\n",
       "      <th>4</th>\n",
       "      <td>41</td>\n",
       "      <td>4</td>\n",
       "      <td>0.097561</td>\n",
       "    </tr>\n",
       "    <tr>\n",
       "      <th>2</th>\n",
       "      <td>2052</td>\n",
       "      <td>194</td>\n",
       "      <td>0.094542</td>\n",
       "    </tr>\n",
       "    <tr>\n",
       "      <th>1</th>\n",
       "      <td>4808</td>\n",
       "      <td>444</td>\n",
       "      <td>0.092346</td>\n",
       "    </tr>\n",
       "    <tr>\n",
       "      <th>3</th>\n",
       "      <td>330</td>\n",
       "      <td>27</td>\n",
       "      <td>0.081818</td>\n",
       "    </tr>\n",
       "    <tr>\n",
       "      <th>0</th>\n",
       "      <td>14091</td>\n",
       "      <td>1063</td>\n",
       "      <td>0.075438</td>\n",
       "    </tr>\n",
       "    <tr>\n",
       "      <th>5</th>\n",
       "      <td>9</td>\n",
       "      <td>0</td>\n",
       "      <td>0.000000</td>\n",
       "    </tr>\n",
       "  </tbody>\n",
       "</table>\n",
       "</div>"
      ],
      "text/plain": [
       "          num_clients  debt_count  debt_rate\n",
       "children                                    \n",
       "4                  41           4   0.097561\n",
       "2                2052         194   0.094542\n",
       "1                4808         444   0.092346\n",
       "3                 330          27   0.081818\n",
       "0               14091        1063   0.075438\n",
       "5                   9           0   0.000000"
      ]
     },
     "execution_count": 22,
     "metadata": {},
     "output_type": "execute_result"
    }
   ],
   "source": [
    "df_children_debt = data.groupby('children')['debt'].agg([\n",
    "        ('num_clients', 'count'),    \n",
    "        ('debt_count', 'sum'),       \n",
    "        ('debt_rate', 'mean')        \n",
    "    ])\n",
    "\n",
    "df_children_debt.sort_values(by='debt_rate', ascending=False)"
   ]
  },
  {
   "cell_type": "markdown",
   "id": "31a50ff2",
   "metadata": {
    "deletable": false,
    "id": "3a6b99ec"
   },
   "source": [
    "**Вывод:** \\\n",
    "Можем заметить, что с увеличением количества детей процент людей, что имели задолженности по возврату кредита, возрастает. Однако в то же время семьи, у кого 3 ребенка, чаще погашают задолженности вовремя, как и те, у кого детей совсем нет. _На основе имеющихся данных довольно трудно сделать однозначные выводы_.\\\n",
    "Возможно, необходимо несколько больше данных, например, по тем клиентам банка, у кого трое детей. Это помогло бы лучше подтвердить гипотезу об однозначной зависимости между количеством детей и возвратом кредита в срок"
   ]
  },
  {
   "cell_type": "markdown",
   "id": "40c3e906",
   "metadata": {
    "deletable": false,
    "editable": false,
    "id": "97be82ca"
   },
   "source": [
    "#### 3.2 Есть ли зависимость между семейным положением и возвратом кредита в срок?"
   ]
  },
  {
   "cell_type": "code",
   "execution_count": 23,
   "id": "14c40f0f",
   "metadata": {
    "deletable": false,
    "id": "dc3f7ee8"
   },
   "outputs": [
    {
     "data": {
      "text/html": [
       "<div>\n",
       "<style scoped>\n",
       "    .dataframe tbody tr th:only-of-type {\n",
       "        vertical-align: middle;\n",
       "    }\n",
       "\n",
       "    .dataframe tbody tr th {\n",
       "        vertical-align: top;\n",
       "    }\n",
       "\n",
       "    .dataframe thead th {\n",
       "        text-align: right;\n",
       "    }\n",
       "</style>\n",
       "<table border=\"1\" class=\"dataframe\">\n",
       "  <thead>\n",
       "    <tr style=\"text-align: right;\">\n",
       "      <th></th>\n",
       "      <th>num_clients</th>\n",
       "      <th>debt_count</th>\n",
       "      <th>debt_rate</th>\n",
       "    </tr>\n",
       "    <tr>\n",
       "      <th>family_status</th>\n",
       "      <th></th>\n",
       "      <th></th>\n",
       "      <th></th>\n",
       "    </tr>\n",
       "  </thead>\n",
       "  <tbody>\n",
       "    <tr>\n",
       "      <th>Не женат / не замужем</th>\n",
       "      <td>2796</td>\n",
       "      <td>273</td>\n",
       "      <td>0.097639</td>\n",
       "    </tr>\n",
       "    <tr>\n",
       "      <th>гражданский брак</th>\n",
       "      <td>4134</td>\n",
       "      <td>385</td>\n",
       "      <td>0.093130</td>\n",
       "    </tr>\n",
       "    <tr>\n",
       "      <th>женат / замужем</th>\n",
       "      <td>12261</td>\n",
       "      <td>927</td>\n",
       "      <td>0.075606</td>\n",
       "    </tr>\n",
       "    <tr>\n",
       "      <th>в разводе</th>\n",
       "      <td>1189</td>\n",
       "      <td>84</td>\n",
       "      <td>0.070648</td>\n",
       "    </tr>\n",
       "    <tr>\n",
       "      <th>вдовец / вдова</th>\n",
       "      <td>951</td>\n",
       "      <td>63</td>\n",
       "      <td>0.066246</td>\n",
       "    </tr>\n",
       "  </tbody>\n",
       "</table>\n",
       "</div>"
      ],
      "text/plain": [
       "                       num_clients  debt_count  debt_rate\n",
       "family_status                                            \n",
       "Не женат / не замужем         2796         273   0.097639\n",
       "гражданский брак              4134         385   0.093130\n",
       "женат / замужем              12261         927   0.075606\n",
       "в разводе                     1189          84   0.070648\n",
       "вдовец / вдова                 951          63   0.066246"
      ]
     },
     "execution_count": 23,
     "metadata": {},
     "output_type": "execute_result"
    }
   ],
   "source": [
    "df_fs_debt = data.groupby('family_status')['debt'].agg([\n",
    "        ('num_clients', 'count'),    \n",
    "        ('debt_count', 'sum'),       \n",
    "        ('debt_rate', 'mean')        \n",
    "    ])\n",
    "\n",
    "df_fs_debt.sort_values(by='debt_rate', ascending=False)"
   ]
  },
  {
   "cell_type": "markdown",
   "id": "dabea5f3",
   "metadata": {
    "deletable": false,
    "id": "1cef7837"
   },
   "source": [
    "**Вывод:**\\\n",
    "Да, здесь зависимость есть. Люди, не состоявшие в браке, _реже возвращают кредит в срок_, чем те, кто на данный момент женат/замужем. Более того, можем заметить также то, что те люди, кто прежде состоял в браке, имеют лучшие показатели по возврату кредита по срокам"
   ]
  },
  {
   "cell_type": "markdown",
   "id": "377075cf",
   "metadata": {
    "deletable": false,
    "editable": false,
    "id": "1e8b2fca"
   },
   "source": [
    "#### 3.3 Есть ли зависимость между уровнем дохода и возвратом кредита в срок?"
   ]
  },
  {
   "cell_type": "code",
   "execution_count": 24,
   "id": "c64b8998",
   "metadata": {
    "deletable": false,
    "id": "cd7e3720",
    "scrolled": false
   },
   "outputs": [
    {
     "data": {
      "text/plain": [
       "min          20,667.00\n",
       "max       2,265,604.00\n",
       "mean        165,342.75\n",
       "median      142,594.00\n",
       "Name: total_income, dtype: object"
      ]
     },
     "execution_count": 24,
     "metadata": {},
     "output_type": "execute_result"
    }
   ],
   "source": [
    "income_info = data['total_income'].agg(['min', 'max', 'mean', 'median'])\n",
    "income_info.apply(lambda x: f'{x:,.2f}')"
   ]
  },
  {
   "cell_type": "code",
   "execution_count": 25,
   "id": "fe836cb4",
   "metadata": {},
   "outputs": [
    {
     "data": {
      "text/plain": [
       "C    15921\n",
       "B     5014\n",
       "D      349\n",
       "A       25\n",
       "E       22\n",
       "Name: total_income_category, dtype: int64"
      ]
     },
     "execution_count": 25,
     "metadata": {},
     "output_type": "execute_result"
    }
   ],
   "source": [
    "data['total_income_category'].value_counts()"
   ]
  },
  {
   "cell_type": "markdown",
   "id": "9532bdd3",
   "metadata": {},
   "source": [
    "**Изучим показатели ежемесячных доходов клиентов** \\\n",
    "Мы имеем дело с сильно смещённым распределением с высокими выбросами (разрыв между медианой и максимумом довольно огромный), что на самом деле кажется типичным для доходов.\n",
    "Для лучших выводов нам следует провести анализ по категориям «B» и «C», ввиду того, что данных по остальным категориям довольно мало (высокая статистическая погрешность)\n"
   ]
  },
  {
   "cell_type": "code",
   "execution_count": 26,
   "id": "b788fa02",
   "metadata": {},
   "outputs": [
    {
     "data": {
      "text/html": [
       "<div>\n",
       "<style scoped>\n",
       "    .dataframe tbody tr th:only-of-type {\n",
       "        vertical-align: middle;\n",
       "    }\n",
       "\n",
       "    .dataframe tbody tr th {\n",
       "        vertical-align: top;\n",
       "    }\n",
       "\n",
       "    .dataframe thead th {\n",
       "        text-align: right;\n",
       "    }\n",
       "</style>\n",
       "<table border=\"1\" class=\"dataframe\">\n",
       "  <thead>\n",
       "    <tr style=\"text-align: right;\">\n",
       "      <th></th>\n",
       "      <th>без просрочки</th>\n",
       "      <th>с просрочкой</th>\n",
       "      <th>всего данных</th>\n",
       "      <th>Доля просроченных кредитов (%)</th>\n",
       "    </tr>\n",
       "    <tr>\n",
       "      <th>total_income_category</th>\n",
       "      <th></th>\n",
       "      <th></th>\n",
       "      <th></th>\n",
       "      <th></th>\n",
       "    </tr>\n",
       "  </thead>\n",
       "  <tbody>\n",
       "    <tr>\n",
       "      <th>A</th>\n",
       "      <td>23</td>\n",
       "      <td>2</td>\n",
       "      <td>25</td>\n",
       "      <td>8.000000</td>\n",
       "    </tr>\n",
       "    <tr>\n",
       "      <th>B</th>\n",
       "      <td>4660</td>\n",
       "      <td>354</td>\n",
       "      <td>5014</td>\n",
       "      <td>7.060231</td>\n",
       "    </tr>\n",
       "    <tr>\n",
       "      <th>C</th>\n",
       "      <td>14568</td>\n",
       "      <td>1353</td>\n",
       "      <td>15921</td>\n",
       "      <td>8.498210</td>\n",
       "    </tr>\n",
       "    <tr>\n",
       "      <th>D</th>\n",
       "      <td>328</td>\n",
       "      <td>21</td>\n",
       "      <td>349</td>\n",
       "      <td>6.017192</td>\n",
       "    </tr>\n",
       "    <tr>\n",
       "      <th>E</th>\n",
       "      <td>20</td>\n",
       "      <td>2</td>\n",
       "      <td>22</td>\n",
       "      <td>9.090909</td>\n",
       "    </tr>\n",
       "  </tbody>\n",
       "</table>\n",
       "</div>"
      ],
      "text/plain": [
       "                       без просрочки  с просрочкой  всего данных  \\\n",
       "total_income_category                                              \n",
       "A                                 23             2            25   \n",
       "B                               4660           354          5014   \n",
       "C                              14568          1353         15921   \n",
       "D                                328            21           349   \n",
       "E                                 20             2            22   \n",
       "\n",
       "                       Доля просроченных кредитов (%)  \n",
       "total_income_category                                  \n",
       "A                                            8.000000  \n",
       "B                                            7.060231  \n",
       "C                                            8.498210  \n",
       "D                                            6.017192  \n",
       "E                                            9.090909  "
      ]
     },
     "execution_count": 26,
     "metadata": {},
     "output_type": "execute_result"
    }
   ],
   "source": [
    "df_income_debt = data.pivot_table(\n",
    "    index='total_income_category',\n",
    "    columns='debt',\n",
    "    values='total_income',\n",
    "    aggfunc='count'\n",
    ")\n",
    "\n",
    "df_income_debt.columns = ['без просрочки', 'с просрочкой']\n",
    "\n",
    "df_income_debt['всего данных'] = (\n",
    "    df_income_debt['без просрочки'] + df_income_debt['с просрочкой']\n",
    ")\n",
    "\n",
    "df_income_debt['Доля просроченных кредитов (%)'] = (\n",
    "    df_income_debt['с просрочкой'] / df_income_debt['всего данных'] * 100\n",
    ")\n",
    "\n",
    "df_income_debt\n"
   ]
  },
  {
   "cell_type": "markdown",
   "id": "d9e183be",
   "metadata": {
    "deletable": false,
    "id": "e8593def"
   },
   "source": [
    "**Выводы**\n",
    "\n",
    "Разбивка клиентов по категориям дохода выглядит так:\n",
    "\n",
    "* **E**: 0–30 000\n",
    "* **D**: 30 001–50 000\n",
    "* **C**: 50 001–200 000\n",
    "* **B**: 200 001–1 000 000\n",
    "* **A**: свыше 1 000 000\n",
    "\n",
    "Доля просроченных кредитов варьируется в разных группах, и в некоторых категориях выборка слишком мала для достоверных выводов. Тем не менее в основных сегментах (B и C), которые составляют большинство клиентов, отчётливо заметна обратная зависимость: с ростом дохода процент должников снижается. _Чем выше доход клиента, тем меньше вероятность просрочки._\n"
   ]
  },
  {
   "cell_type": "markdown",
   "id": "520ebc41",
   "metadata": {
    "deletable": false,
    "editable": false,
    "id": "99ecbd1f"
   },
   "source": [
    "#### 3.4 Как разные цели кредита влияют на его возврат в срок?"
   ]
  },
  {
   "cell_type": "code",
   "execution_count": 27,
   "id": "00ea4a12",
   "metadata": {
    "deletable": false,
    "id": "2b687290"
   },
   "outputs": [
    {
     "data": {
      "text/html": [
       "<div>\n",
       "<style scoped>\n",
       "    .dataframe tbody tr th:only-of-type {\n",
       "        vertical-align: middle;\n",
       "    }\n",
       "\n",
       "    .dataframe tbody tr th {\n",
       "        vertical-align: top;\n",
       "    }\n",
       "\n",
       "    .dataframe thead th {\n",
       "        text-align: right;\n",
       "    }\n",
       "</style>\n",
       "<table border=\"1\" class=\"dataframe\">\n",
       "  <thead>\n",
       "    <tr style=\"text-align: right;\">\n",
       "      <th></th>\n",
       "      <th>num_clients</th>\n",
       "      <th>debt_count</th>\n",
       "      <th>debt_rate</th>\n",
       "    </tr>\n",
       "    <tr>\n",
       "      <th>purpose_category</th>\n",
       "      <th></th>\n",
       "      <th></th>\n",
       "      <th></th>\n",
       "    </tr>\n",
       "  </thead>\n",
       "  <tbody>\n",
       "    <tr>\n",
       "      <th>операции с автомобилем</th>\n",
       "      <td>4279</td>\n",
       "      <td>400</td>\n",
       "      <td>0.093480</td>\n",
       "    </tr>\n",
       "    <tr>\n",
       "      <th>получение образования</th>\n",
       "      <td>3988</td>\n",
       "      <td>369</td>\n",
       "      <td>0.092528</td>\n",
       "    </tr>\n",
       "    <tr>\n",
       "      <th>проведение свадьбы</th>\n",
       "      <td>2313</td>\n",
       "      <td>183</td>\n",
       "      <td>0.079118</td>\n",
       "    </tr>\n",
       "    <tr>\n",
       "      <th>операции с недвижимостью</th>\n",
       "      <td>10751</td>\n",
       "      <td>780</td>\n",
       "      <td>0.072551</td>\n",
       "    </tr>\n",
       "  </tbody>\n",
       "</table>\n",
       "</div>"
      ],
      "text/plain": [
       "                          num_clients  debt_count  debt_rate\n",
       "purpose_category                                            \n",
       "операции с автомобилем           4279         400   0.093480\n",
       "получение образования            3988         369   0.092528\n",
       "проведение свадьбы               2313         183   0.079118\n",
       "операции с недвижимостью        10751         780   0.072551"
      ]
     },
     "execution_count": 27,
     "metadata": {},
     "output_type": "execute_result"
    }
   ],
   "source": [
    "df_children_debt = data.groupby('purpose_category')['debt'].agg([\n",
    "        ('num_clients', 'count'),    \n",
    "        ('debt_count', 'sum'),       \n",
    "        ('debt_rate', 'mean')        \n",
    "    ])\n",
    "\n",
    "df_children_debt.sort_values(by='debt_rate', ascending=False)"
   ]
  },
  {
   "cell_type": "markdown",
   "id": "3b3f9982",
   "metadata": {
    "deletable": false,
    "id": "b4bb2ce6"
   },
   "source": [
    "**Вывод:**\\\n",
    "Цели получения кредитов можно разбить на 4 категории:\n",
    " - операции с автомобилем\n",
    " - получение образования\n",
    " - проведение свадьбы\n",
    " - операции с недвижимостью\n",
    " \n",
    "Ранее мы уже произвели группировку целей кредитов по этим категориям, поэтому можем довольно просто вывести необходимую информацию по возврату кредита в сроки для группы пользователей.\n",
    "\n",
    "Здесь мы можем заметить, что цели, связанные с недвижимостью и свадьбой, имеют довольно низкий процент просроченных сроков кредитования, то есть клиенты этих категорий чаще возвращают деньги вовремя. Деньги же, взятые для трат на автомобиль и образование, возвращают вовремя реже.\n"
   ]
  },
  {
   "cell_type": "markdown",
   "id": "c3662bdd",
   "metadata": {
    "deletable": false,
    "editable": false,
    "id": "09c3ac4c"
   },
   "source": [
    "#### 3.5 Приведите возможные причины появления пропусков в исходных данных."
   ]
  },
  {
   "cell_type": "markdown",
   "id": "1ee3f56b",
   "metadata": {
    "deletable": false,
    "id": "9da2ceda"
   },
   "source": [
    "*Ответ:* отметим колонки, где имелись пропущенные значения:\n",
    " - total_income\n",
    " - days_employed\n",
    "\n",
    "Обратившись к блоку с предобработкой данных, можем заметить, что в нашем датасете пропуски в этих двух столбцах равны одному и тому же значению (2174). Это значит, что пропущенные значения не случайны, а, скорее всего, связаны с определёнными категориями клиентов или этапами сбора данных.\n",
    "Я могу выделить следующие возможные причины:\n",
    "1. Пенсионеры, студенты и безработные\n",
    " - У пенсионеров официальный доход зачастую не привязан к зарплате, а выплачивается как пенсия или субсидия, и банк мог хранить такой доход в других колонках (или вообще не считать его “рабочим” доходом).\n",
    " - У студентов и безработных фактический «общий трудовой стаж в днях» либо равен нулю, либо не имеет смысла (они просто не работали официально). Банк мог оставить эти строки пустыми, а не прописывать «0», чтобы не вводить в заблуждение аналитиков.\n",
    " - Возможно, безработные (те, кто не проработал ни одного дня) не отображаются как «0» в базе данных банка, а просто трактуется как отсутствие информации о клиенте. Посмотрим минимальное значение в столбце days_employed:"
   ]
  },
  {
   "cell_type": "code",
   "execution_count": 28,
   "id": "03667885",
   "metadata": {
    "scrolled": true
   },
   "outputs": [
    {
     "data": {
      "text/plain": [
       "24.14163324048118"
      ]
     },
     "execution_count": 28,
     "metadata": {},
     "output_type": "execute_result"
    }
   ],
   "source": [
    "data['days_employed'].min() # минимальное значение общего трудового стажа в днях у клиентов"
   ]
  },
  {
   "cell_type": "markdown",
   "id": "6c3652da",
   "metadata": {},
   "source": [
    "Это подтверждает предположение последнего пункта про сохранение данных о безработных.\n",
    "\n",
    "2. Конфиденциальность и внутренние правила банка\n",
    "- Некоторые клиенты могли дать согласие на получение кредита, но не дали разрешение банку хранить или обрабатывать их данные о заработке, ввиду чего пришлось оставить значения ежемесячного дохода и трудового стажа пустыми"
   ]
  },
  {
   "cell_type": "markdown",
   "id": "127e44c1",
   "metadata": {
    "deletable": false,
    "editable": false,
    "id": "7b0487d6"
   },
   "source": [
    "#### 3.6 Объясните, почему заполнить пропуски медианным значением — лучшее решение для количественных переменных."
   ]
  },
  {
   "cell_type": "markdown",
   "id": "7c84cea1",
   "metadata": {
    "deletable": false,
    "id": "7ecf2b8e"
   },
   "source": [
    "*Ответ:* Это решение можно считать оптимальным по нескольким причинам:\n",
    "1. Сильно скошенные данные (мы работаем с ежемесячными доходами, в значениях которых зачастую можно найти выбросы, а также с общим трудовым стажем пенсионеров и безработных, где тоже наблюдались аномальные значения, которые мы решили не исправлять).\n",
    "\n",
    "2. Небольшое число пропусков относительно всего объёма (тогда замена одной константой не сильно исказит общую картину).\n",
    "\n",
    "3. Это довольно быстрая предобработка данных до более сложного анализа. Особенно оказывается отличным решением в тот момент, когда нет много времени строить модели для предсказания отсутствующих значений."
   ]
  },
  {
   "cell_type": "markdown",
   "id": "f05de449",
   "metadata": {
    "deletable": false,
    "editable": false,
    "id": "6db5255a"
   },
   "source": [
    "### Шаг 4: общий вывод."
   ]
  },
  {
   "cell_type": "markdown",
   "id": "07d80ad1",
   "metadata": {
    "deletable": false,
    "id": "bad65432"
   },
   "source": [
    "_В результате нашей работы мы проделали следующее:_\n",
    "1. Заполнили пропуски по столбцам days_employed и total_income (медианными значениями по каждого типа занятости income_type), а также дали объяснения по возможному происхождению этих пропусков и по тому, ввиду чего стоит брать именно медианные значения для них\n",
    "2. Обработали аномальные отрицательные значения в столбце days_employed, взяв их противоположные значения, а также аномальные данные в столбце children, удалив их\n",
    "3. Обработали дубликаты, убедившись, что в столбце education нет повторяющихся значений по клиентам в разном регистре (Высшее и высшее - должно быть одним и тем же)\n",
    "4. Произвели категоризацию данных:\n",
    " - Разбили доход клиентов на 5 категорий\n",
    " - На основании данных по клиентам столбца purpose (цель кредитования) составили 4 основные категории получения кредита.\n",
    "\n",
    "\n",
    "_На основе полученной информации мы можем заключить следующее о выявленных зависимостях просрочки от разных факторов:_\n",
    "1. **Семейное положение**\n",
    "    1. Надежные заемщики:\n",
    "          1. Клиенты, состоявшие в браке ранее (разведенные/овдовевшие), демонстрируют наименьшую долю просрочек.\n",
    "          2. Те, кто находится в браке (женат/замужем), также платят вовремя чаще, чем незамужние/неженатые.\n",
    "    2. Рискованные заемщики:\n",
    "          1. Клиенты, никогда не состоявшие в браке, имеют более высокую вероятность просрочки по кредиту.\n",
    "2. **Количество детей**\n",
    "    1. Надежные заемщики:\n",
    "          1. Клиенты без детей \n",
    "    2. Рискованные заемщики:\n",
    "          1. Клиенты с 1 или 2 детьми - их доля просроченных кредитов несколько выше, нежели чем у семей без детей. \n",
    "          2. По клиентам с 3 и более детьми выборка недостаточна для однозначных выводов.\n",
    "3. **Цель кредита**\n",
    "    1. Надежные цели:\n",
    "        1. Покупка недвижимости и проведение свадьбы — наименьший риск просрочки.\n",
    "\n",
    "    1. Рискованные цели:\n",
    "        1. Приобретение автомобиля и дополнительное образование — более высокая доля просрочек.\n",
    "4. **Доходы**\\\n",
    "    В группах с достаточным объёмом данных (категории B и C) видно, что клиенты из категории B (200 001–1 000 000 ₽) имеют более низкий процент просрочек (≈ 7,06 %) по сравнению с категорией C (50 001–200 000 ₽) (≈ 8,50 %). Это говорит о том, что в средне–высоком сегменте дохода (категория B) доля должников ниже, чем в среднем сегменте (категория C). В крайних категориях (E и A) выборки слишком малы, чтобы делать статистически надёжные обобщения, а категория D (30 001–50 000 ₽) показывает долю ≈ 6,02 %, однако её объём тоже сравнительно небольшой, чем в B и C, поэтому она менее репрезентативна. В таком случае можем сделать следующее заключение:\n",
    "    - Между группами B и C, где статистика наиболее надёжна, наблюдается: чем выше доход (переход из C в B), тем ниже процент просрочек.\n",
    "    - В других категориях (E, D, A) выборка весьма мала, чтобы можно было сделать надежные выводы\n",
    "    \n",
    "На основе проведенного анализа мы можем выделить ключевые характеристики, которые отличают **надежных** заемщиков от **рискованных**. Эти выводы помогут банку оптимизировать кредитную политику, минимизировать риски и принимать более обоснованные решения.\n",
    "\n",
    "_Портреты заемщиков_\n",
    "1. Надежный заемщик:\n",
    "\n",
    "    1. Семейное положение: вдовец/разведенный или официально женат/замужем.\n",
    "\n",
    "    2. Дети: детей нет\n",
    "\n",
    "    3. Цель кредита: операции с недвижимостью, свадьба.\n",
    "    \n",
    "    4. Доход: преимущественно в категории B (200 001–1 000 000 ₽).\n",
    "\n",
    "\n",
    "2. Рискованный заемщик:\n",
    "\n",
    "    1. Семейное положение: никогда не состоял в браке.\n",
    "\n",
    "    2. Цель кредита: покупка автомобиля, образование.\n",
    "    \n",
    "    3. Доход: чаще встречается в средних (<200 000 ₽) или низких (<50 000 ₽) категориях, но надёжность дохода менее критична, чем плохие сочетания семейного статуса и цели.\n",
    "    \n",
    "Таким образом, стоит активнее работать с семейными клиентами (особенно вдовцами/разведенными) и теми, кто берет кредиты на недвижимость или свадьбу — предлагать им выгодные условия. Для займов на авто, образование и многодетных семей — усилить контроль и ограничить риски, так как их доля просрочек выше. Кроме того, при оценке потенциальных должников учитывать доход преимущественно в категориях B и C, понимая, что в сегменте B (200 001–1 000 000 ₽) клиент надёжнее, чем в C (50 001–200 000 ₽).\n",
    "\n",
    "_Данные показывают: ключевые факторы при работе с клиентами — семейный статус, цели, количество детей и доходность клиента._\n"
   ]
  }
 ],
 "metadata": {
  "ExecuteTimeLog": [
   {
    "duration": 51,
    "start_time": "2025-05-22T18:52:46.604Z"
   },
   {
    "duration": 521,
    "start_time": "2025-05-22T18:52:58.402Z"
   },
   {
    "duration": 26,
    "start_time": "2025-05-22T18:52:58.925Z"
   },
   {
    "duration": 22,
    "start_time": "2025-05-22T18:52:58.953Z"
   },
   {
    "duration": 12,
    "start_time": "2025-05-22T18:52:58.978Z"
   },
   {
    "duration": 39,
    "start_time": "2025-05-22T18:52:58.993Z"
   },
   {
    "duration": 4,
    "start_time": "2025-05-22T18:52:59.034Z"
   },
   {
    "duration": 26,
    "start_time": "2025-05-22T18:52:59.061Z"
   },
   {
    "duration": 44,
    "start_time": "2025-05-22T18:52:59.089Z"
   },
   {
    "duration": 23,
    "start_time": "2025-05-22T18:52:59.135Z"
   },
   {
    "duration": 17,
    "start_time": "2025-05-22T18:52:59.160Z"
   },
   {
    "duration": 53,
    "start_time": "2025-05-22T18:52:59.179Z"
   },
   {
    "duration": 10,
    "start_time": "2025-05-22T18:52:59.234Z"
   },
   {
    "duration": 17,
    "start_time": "2025-05-22T18:52:59.246Z"
   },
   {
    "duration": 31,
    "start_time": "2025-05-22T18:52:59.266Z"
   },
   {
    "duration": 62,
    "start_time": "2025-05-22T18:52:59.298Z"
   },
   {
    "duration": 111,
    "start_time": "2025-05-22T18:52:59.361Z"
   },
   {
    "duration": 4,
    "start_time": "2025-05-22T18:52:59.474Z"
   },
   {
    "duration": 24,
    "start_time": "2025-05-22T18:52:59.480Z"
   },
   {
    "duration": 51,
    "start_time": "2025-05-22T18:52:59.506Z"
   },
   {
    "duration": 7,
    "start_time": "2025-05-22T18:52:59.559Z"
   },
   {
    "duration": 32,
    "start_time": "2025-05-22T18:52:59.568Z"
   },
   {
    "duration": 16,
    "start_time": "2025-05-22T18:53:01.693Z"
   },
   {
    "duration": 16,
    "start_time": "2025-05-22T18:54:29.466Z"
   },
   {
    "duration": 7,
    "start_time": "2025-05-22T18:55:00.063Z"
   },
   {
    "duration": 7,
    "start_time": "2025-05-22T18:57:42.608Z"
   },
   {
    "duration": 7,
    "start_time": "2025-05-22T18:57:56.367Z"
   },
   {
    "duration": 6,
    "start_time": "2025-05-22T18:58:02.362Z"
   },
   {
    "duration": 6,
    "start_time": "2025-05-22T18:58:11.264Z"
   },
   {
    "duration": 3,
    "start_time": "2025-05-22T19:00:39.784Z"
   },
   {
    "duration": 7,
    "start_time": "2025-05-22T19:03:48.711Z"
   },
   {
    "duration": 14,
    "start_time": "2025-05-22T19:07:34.243Z"
   },
   {
    "duration": 14,
    "start_time": "2025-05-22T19:08:21.915Z"
   },
   {
    "duration": 42,
    "start_time": "2025-05-22T19:09:11.156Z"
   },
   {
    "duration": 16,
    "start_time": "2025-05-22T19:09:16.082Z"
   },
   {
    "duration": 15,
    "start_time": "2025-05-22T19:09:38.097Z"
   },
   {
    "duration": 50,
    "start_time": "2025-05-22T21:10:15.142Z"
   },
   {
    "duration": 502,
    "start_time": "2025-05-22T21:10:24.281Z"
   },
   {
    "duration": 22,
    "start_time": "2025-05-22T21:10:24.785Z"
   },
   {
    "duration": 17,
    "start_time": "2025-05-22T21:10:24.808Z"
   },
   {
    "duration": 10,
    "start_time": "2025-05-22T21:10:24.827Z"
   },
   {
    "duration": 59,
    "start_time": "2025-05-22T21:10:24.839Z"
   },
   {
    "duration": 3,
    "start_time": "2025-05-22T21:10:24.900Z"
   },
   {
    "duration": 13,
    "start_time": "2025-05-22T21:10:24.904Z"
   },
   {
    "duration": 4,
    "start_time": "2025-05-22T21:10:24.919Z"
   },
   {
    "duration": 38,
    "start_time": "2025-05-22T21:10:24.924Z"
   },
   {
    "duration": 8,
    "start_time": "2025-05-22T21:10:24.963Z"
   },
   {
    "duration": 46,
    "start_time": "2025-05-22T21:10:24.973Z"
   },
   {
    "duration": 12,
    "start_time": "2025-05-22T21:10:25.021Z"
   },
   {
    "duration": 9,
    "start_time": "2025-05-22T21:10:25.035Z"
   },
   {
    "duration": 13,
    "start_time": "2025-05-22T21:10:25.047Z"
   },
   {
    "duration": 21,
    "start_time": "2025-05-22T21:10:25.072Z"
   },
   {
    "duration": 17,
    "start_time": "2025-05-22T21:10:25.095Z"
   },
   {
    "duration": 4,
    "start_time": "2025-05-22T21:10:25.113Z"
   },
   {
    "duration": 11,
    "start_time": "2025-05-22T21:10:25.119Z"
   },
   {
    "duration": 6,
    "start_time": "2025-05-22T21:10:25.132Z"
   },
   {
    "duration": 3,
    "start_time": "2025-05-22T21:10:25.172Z"
   },
   {
    "duration": 18,
    "start_time": "2025-05-22T21:10:25.177Z"
   },
   {
    "duration": 17,
    "start_time": "2025-05-22T21:10:25.196Z"
   },
   {
    "duration": 6,
    "start_time": "2025-05-22T21:10:34.809Z"
   },
   {
    "duration": 42,
    "start_time": "2025-05-22T21:12:22.919Z"
   },
   {
    "duration": 17,
    "start_time": "2025-05-22T21:12:28.692Z"
   },
   {
    "duration": 16,
    "start_time": "2025-05-22T21:12:40.393Z"
   },
   {
    "duration": 17,
    "start_time": "2025-05-22T21:17:18.620Z"
   },
   {
    "duration": 15,
    "start_time": "2025-05-22T21:28:54.398Z"
   },
   {
    "duration": 11,
    "start_time": "2025-05-22T21:30:21.585Z"
   },
   {
    "duration": 5,
    "start_time": "2025-05-22T21:30:27.199Z"
   },
   {
    "duration": 3,
    "start_time": "2025-05-22T21:30:38.805Z"
   },
   {
    "duration": 6,
    "start_time": "2025-05-22T21:30:44.752Z"
   },
   {
    "duration": 7,
    "start_time": "2025-05-22T21:31:30.564Z"
   },
   {
    "duration": 6,
    "start_time": "2025-05-22T21:31:34.452Z"
   },
   {
    "duration": 6,
    "start_time": "2025-05-22T21:31:38.066Z"
   },
   {
    "duration": 7,
    "start_time": "2025-05-22T21:31:55.153Z"
   },
   {
    "duration": 9,
    "start_time": "2025-05-22T21:32:17.679Z"
   },
   {
    "duration": 6,
    "start_time": "2025-05-22T21:33:32.453Z"
   },
   {
    "duration": 7,
    "start_time": "2025-05-22T21:33:53.053Z"
   },
   {
    "duration": 7,
    "start_time": "2025-05-22T21:34:02.900Z"
   },
   {
    "duration": 7,
    "start_time": "2025-05-22T21:34:06.527Z"
   },
   {
    "duration": 381,
    "start_time": "2025-05-22T21:34:11.243Z"
   },
   {
    "duration": 8,
    "start_time": "2025-05-22T21:34:14.002Z"
   },
   {
    "duration": 99,
    "start_time": "2025-05-22T21:43:00.052Z"
   },
   {
    "duration": 4,
    "start_time": "2025-05-22T21:44:35.660Z"
   },
   {
    "duration": 4,
    "start_time": "2025-05-22T21:45:42.477Z"
   },
   {
    "duration": 10,
    "start_time": "2025-05-22T21:46:35.065Z"
   },
   {
    "duration": 10,
    "start_time": "2025-05-22T21:46:44.562Z"
   },
   {
    "duration": 23,
    "start_time": "2025-05-22T21:46:49.829Z"
   },
   {
    "duration": 9,
    "start_time": "2025-05-22T21:46:57.844Z"
   },
   {
    "duration": 20,
    "start_time": "2025-05-22T21:51:49.431Z"
   },
   {
    "duration": 1569,
    "start_time": "2025-05-22T21:52:00.939Z"
   },
   {
    "duration": 23,
    "start_time": "2025-05-22T21:52:31.222Z"
   },
   {
    "duration": 8,
    "start_time": "2025-05-22T21:52:43.926Z"
   },
   {
    "duration": 17,
    "start_time": "2025-05-22T21:52:45.789Z"
   },
   {
    "duration": 16,
    "start_time": "2025-05-22T21:53:35.436Z"
   },
   {
    "duration": 15,
    "start_time": "2025-05-22T21:59:17.472Z"
   },
   {
    "duration": 19,
    "start_time": "2025-05-22T21:59:31.119Z"
   },
   {
    "duration": 17,
    "start_time": "2025-05-22T21:59:59.812Z"
   },
   {
    "duration": 17,
    "start_time": "2025-05-22T22:00:13.468Z"
   },
   {
    "duration": 5,
    "start_time": "2025-05-22T22:22:26.133Z"
   },
   {
    "duration": 5,
    "start_time": "2025-05-22T22:26:13.447Z"
   },
   {
    "duration": 70,
    "start_time": "2025-05-22T22:56:04.390Z"
   },
   {
    "duration": 16,
    "start_time": "2025-05-22T22:56:04.462Z"
   },
   {
    "duration": 28,
    "start_time": "2025-05-22T22:56:04.479Z"
   },
   {
    "duration": 10,
    "start_time": "2025-05-22T22:56:04.509Z"
   },
   {
    "duration": 50,
    "start_time": "2025-05-22T22:56:04.521Z"
   },
   {
    "duration": 3,
    "start_time": "2025-05-22T22:56:04.573Z"
   },
   {
    "duration": 13,
    "start_time": "2025-05-22T22:56:04.577Z"
   },
   {
    "duration": 13,
    "start_time": "2025-05-22T22:56:04.592Z"
   },
   {
    "duration": 7,
    "start_time": "2025-05-22T22:56:04.606Z"
   },
   {
    "duration": 8,
    "start_time": "2025-05-22T22:56:04.615Z"
   },
   {
    "duration": 58,
    "start_time": "2025-05-22T22:56:04.624Z"
   },
   {
    "duration": 10,
    "start_time": "2025-05-22T22:56:04.684Z"
   },
   {
    "duration": 5,
    "start_time": "2025-05-22T22:56:04.695Z"
   },
   {
    "duration": 12,
    "start_time": "2025-05-22T22:56:04.703Z"
   },
   {
    "duration": 41,
    "start_time": "2025-05-22T22:56:04.716Z"
   },
   {
    "duration": 28,
    "start_time": "2025-05-22T22:56:04.758Z"
   },
   {
    "duration": 3,
    "start_time": "2025-05-22T22:56:04.788Z"
   },
   {
    "duration": 20,
    "start_time": "2025-05-22T22:56:04.793Z"
   },
   {
    "duration": 39,
    "start_time": "2025-05-22T22:56:04.814Z"
   },
   {
    "duration": 4,
    "start_time": "2025-05-22T22:56:04.854Z"
   },
   {
    "duration": 9,
    "start_time": "2025-05-22T22:56:04.860Z"
   },
   {
    "duration": 14,
    "start_time": "2025-05-22T22:56:04.871Z"
   },
   {
    "duration": 20,
    "start_time": "2025-05-22T22:56:04.886Z"
   },
   {
    "duration": 7,
    "start_time": "2025-05-22T22:56:04.907Z"
   },
   {
    "duration": 12,
    "start_time": "2025-05-22T22:56:04.916Z"
   },
   {
    "duration": 17,
    "start_time": "2025-05-22T22:56:04.930Z"
   },
   {
    "duration": 32,
    "start_time": "2025-05-22T22:56:04.949Z"
   },
   {
    "duration": 17,
    "start_time": "2025-05-22T22:56:04.983Z"
   },
   {
    "duration": 5,
    "start_time": "2025-05-22T22:56:05.001Z"
   },
   {
    "duration": 461,
    "start_time": "2025-05-22T22:56:22.095Z"
   },
   {
    "duration": 23,
    "start_time": "2025-05-22T22:56:22.558Z"
   },
   {
    "duration": 16,
    "start_time": "2025-05-22T22:56:22.583Z"
   },
   {
    "duration": 11,
    "start_time": "2025-05-22T22:56:22.601Z"
   },
   {
    "duration": 62,
    "start_time": "2025-05-22T22:56:22.614Z"
   },
   {
    "duration": 4,
    "start_time": "2025-05-22T22:56:22.677Z"
   },
   {
    "duration": 12,
    "start_time": "2025-05-22T22:56:22.682Z"
   },
   {
    "duration": 5,
    "start_time": "2025-05-22T22:56:22.696Z"
   },
   {
    "duration": 9,
    "start_time": "2025-05-22T22:56:22.702Z"
   },
   {
    "duration": 5,
    "start_time": "2025-05-22T22:56:22.712Z"
   },
   {
    "duration": 72,
    "start_time": "2025-05-22T22:56:22.718Z"
   },
   {
    "duration": 10,
    "start_time": "2025-05-22T22:56:22.792Z"
   },
   {
    "duration": 4,
    "start_time": "2025-05-22T22:56:22.803Z"
   },
   {
    "duration": 13,
    "start_time": "2025-05-22T22:56:22.809Z"
   },
   {
    "duration": 50,
    "start_time": "2025-05-22T22:56:22.824Z"
   },
   {
    "duration": 18,
    "start_time": "2025-05-22T22:56:22.875Z"
   },
   {
    "duration": 4,
    "start_time": "2025-05-22T22:56:22.894Z"
   },
   {
    "duration": 12,
    "start_time": "2025-05-22T22:56:22.900Z"
   },
   {
    "duration": 7,
    "start_time": "2025-05-22T22:56:22.914Z"
   },
   {
    "duration": 10,
    "start_time": "2025-05-22T22:56:22.923Z"
   },
   {
    "duration": 39,
    "start_time": "2025-05-22T22:56:22.935Z"
   },
   {
    "duration": 15,
    "start_time": "2025-05-22T22:56:22.976Z"
   },
   {
    "duration": 17,
    "start_time": "2025-05-22T22:56:22.993Z"
   },
   {
    "duration": 7,
    "start_time": "2025-05-22T22:56:23.012Z"
   },
   {
    "duration": 7,
    "start_time": "2025-05-22T22:56:23.021Z"
   },
   {
    "duration": 48,
    "start_time": "2025-05-22T22:56:23.030Z"
   },
   {
    "duration": 17,
    "start_time": "2025-05-22T22:56:23.079Z"
   },
   {
    "duration": 15,
    "start_time": "2025-05-22T22:56:23.098Z"
   },
   {
    "duration": 8,
    "start_time": "2025-05-22T22:56:23.115Z"
   },
   {
    "duration": 507,
    "start_time": "2025-05-23T06:03:49.967Z"
   },
   {
    "duration": 23,
    "start_time": "2025-05-23T06:03:50.476Z"
   },
   {
    "duration": 16,
    "start_time": "2025-05-23T06:03:50.500Z"
   },
   {
    "duration": 10,
    "start_time": "2025-05-23T06:03:50.518Z"
   },
   {
    "duration": 57,
    "start_time": "2025-05-23T06:03:50.530Z"
   },
   {
    "duration": 4,
    "start_time": "2025-05-23T06:03:50.588Z"
   },
   {
    "duration": 13,
    "start_time": "2025-05-23T06:03:50.593Z"
   },
   {
    "duration": 5,
    "start_time": "2025-05-23T06:03:50.607Z"
   },
   {
    "duration": 7,
    "start_time": "2025-05-23T06:03:50.614Z"
   },
   {
    "duration": 4,
    "start_time": "2025-05-23T06:03:50.623Z"
   },
   {
    "duration": 60,
    "start_time": "2025-05-23T06:03:50.628Z"
   },
   {
    "duration": 10,
    "start_time": "2025-05-23T06:03:50.690Z"
   },
   {
    "duration": 11,
    "start_time": "2025-05-23T06:03:50.702Z"
   },
   {
    "duration": 12,
    "start_time": "2025-05-23T06:03:50.715Z"
   },
   {
    "duration": 40,
    "start_time": "2025-05-23T06:03:50.728Z"
   },
   {
    "duration": 17,
    "start_time": "2025-05-23T06:03:50.770Z"
   },
   {
    "duration": 4,
    "start_time": "2025-05-23T06:03:50.789Z"
   },
   {
    "duration": 14,
    "start_time": "2025-05-23T06:03:50.794Z"
   },
   {
    "duration": 8,
    "start_time": "2025-05-23T06:03:50.809Z"
   },
   {
    "duration": 10,
    "start_time": "2025-05-23T06:03:50.818Z"
   },
   {
    "duration": 32,
    "start_time": "2025-05-23T06:03:50.830Z"
   },
   {
    "duration": 25,
    "start_time": "2025-05-23T06:03:50.863Z"
   },
   {
    "duration": 16,
    "start_time": "2025-05-23T06:03:50.890Z"
   },
   {
    "duration": 15,
    "start_time": "2025-05-23T06:03:50.907Z"
   },
   {
    "duration": 27,
    "start_time": "2025-05-23T06:03:50.923Z"
   },
   {
    "duration": 19,
    "start_time": "2025-05-23T06:03:50.952Z"
   },
   {
    "duration": 122,
    "start_time": "2025-05-23T06:03:50.972Z"
   },
   {
    "duration": 17,
    "start_time": "2025-05-23T06:03:51.098Z"
   },
   {
    "duration": 4,
    "start_time": "2025-05-23T06:03:51.117Z"
   },
   {
    "duration": 53,
    "start_time": "2025-05-23T08:19:27.164Z"
   },
   {
    "duration": 475,
    "start_time": "2025-05-23T08:19:35.882Z"
   },
   {
    "duration": 24,
    "start_time": "2025-05-23T08:19:36.360Z"
   },
   {
    "duration": 154,
    "start_time": "2025-05-23T08:19:36.387Z"
   },
   {
    "duration": 15,
    "start_time": "2025-05-23T08:19:36.543Z"
   },
   {
    "duration": 91,
    "start_time": "2025-05-23T08:19:36.561Z"
   },
   {
    "duration": 6,
    "start_time": "2025-05-23T08:19:36.653Z"
   },
   {
    "duration": 34,
    "start_time": "2025-05-23T08:19:36.661Z"
   },
   {
    "duration": 31,
    "start_time": "2025-05-23T08:19:36.697Z"
   },
   {
    "duration": 59,
    "start_time": "2025-05-23T08:19:36.730Z"
   },
   {
    "duration": 19,
    "start_time": "2025-05-23T08:19:36.791Z"
   },
   {
    "duration": 47,
    "start_time": "2025-05-23T08:19:36.811Z"
   },
   {
    "duration": 11,
    "start_time": "2025-05-23T08:19:36.859Z"
   },
   {
    "duration": 19,
    "start_time": "2025-05-23T08:19:36.872Z"
   },
   {
    "duration": 42,
    "start_time": "2025-05-23T08:19:36.894Z"
   },
   {
    "duration": 69,
    "start_time": "2025-05-23T08:19:36.938Z"
   },
   {
    "duration": 36,
    "start_time": "2025-05-23T08:19:37.008Z"
   },
   {
    "duration": 7,
    "start_time": "2025-05-23T08:19:37.046Z"
   },
   {
    "duration": 28,
    "start_time": "2025-05-23T08:19:37.055Z"
   },
   {
    "duration": 37,
    "start_time": "2025-05-23T08:19:37.084Z"
   },
   {
    "duration": 61,
    "start_time": "2025-05-23T08:19:37.123Z"
   },
   {
    "duration": 157,
    "start_time": "2025-05-23T08:19:37.186Z"
   },
   {
    "duration": 73,
    "start_time": "2025-05-23T08:19:37.345Z"
   },
   {
    "duration": 13,
    "start_time": "2025-05-23T08:19:51.352Z"
   },
   {
    "duration": 86,
    "start_time": "2025-05-23T08:20:50.613Z"
   },
   {
    "duration": 11,
    "start_time": "2025-05-23T08:21:13.058Z"
   },
   {
    "duration": 13,
    "start_time": "2025-05-23T08:29:08.400Z"
   },
   {
    "duration": 14,
    "start_time": "2025-05-23T08:30:21.105Z"
   },
   {
    "duration": 94,
    "start_time": "2025-05-23T08:34:16.770Z"
   },
   {
    "duration": 515,
    "start_time": "2025-05-23T13:47:58.729Z"
   },
   {
    "duration": 23,
    "start_time": "2025-05-23T13:47:59.246Z"
   },
   {
    "duration": 16,
    "start_time": "2025-05-23T13:47:59.271Z"
   },
   {
    "duration": 10,
    "start_time": "2025-05-23T13:47:59.289Z"
   },
   {
    "duration": 57,
    "start_time": "2025-05-23T13:47:59.301Z"
   },
   {
    "duration": 4,
    "start_time": "2025-05-23T13:47:59.359Z"
   },
   {
    "duration": 19,
    "start_time": "2025-05-23T13:47:59.364Z"
   },
   {
    "duration": 6,
    "start_time": "2025-05-23T13:47:59.385Z"
   },
   {
    "duration": 8,
    "start_time": "2025-05-23T13:47:59.392Z"
   },
   {
    "duration": 4,
    "start_time": "2025-05-23T13:47:59.401Z"
   },
   {
    "duration": 51,
    "start_time": "2025-05-23T13:47:59.407Z"
   },
   {
    "duration": 10,
    "start_time": "2025-05-23T13:47:59.460Z"
   },
   {
    "duration": 4,
    "start_time": "2025-05-23T13:47:59.471Z"
   },
   {
    "duration": 17,
    "start_time": "2025-05-23T13:47:59.478Z"
   },
   {
    "duration": 20,
    "start_time": "2025-05-23T13:47:59.497Z"
   },
   {
    "duration": 41,
    "start_time": "2025-05-23T13:47:59.518Z"
   },
   {
    "duration": 3,
    "start_time": "2025-05-23T13:47:59.561Z"
   },
   {
    "duration": 12,
    "start_time": "2025-05-23T13:47:59.565Z"
   },
   {
    "duration": 13,
    "start_time": "2025-05-23T13:47:59.578Z"
   },
   {
    "duration": 3,
    "start_time": "2025-05-23T13:47:59.592Z"
   },
   {
    "duration": 14,
    "start_time": "2025-05-23T13:47:59.596Z"
   },
   {
    "duration": 16,
    "start_time": "2025-05-23T13:47:59.613Z"
   },
   {
    "duration": 39,
    "start_time": "2025-05-23T13:47:59.631Z"
   },
   {
    "duration": 7,
    "start_time": "2025-05-23T13:47:59.671Z"
   },
   {
    "duration": 4,
    "start_time": "2025-05-23T13:47:59.679Z"
   },
   {
    "duration": 10,
    "start_time": "2025-05-23T13:47:59.684Z"
   },
   {
    "duration": 15,
    "start_time": "2025-05-23T13:47:59.695Z"
   },
   {
    "duration": 13,
    "start_time": "2025-05-23T13:48:04.400Z"
   },
   {
    "duration": 82,
    "start_time": "2025-05-23T13:48:54.836Z"
   },
   {
    "duration": 12,
    "start_time": "2025-05-23T13:49:34.250Z"
   },
   {
    "duration": 17,
    "start_time": "2025-05-23T13:51:48.124Z"
   },
   {
    "duration": 1225,
    "start_time": "2025-05-23T13:52:22.264Z"
   },
   {
    "duration": 1305,
    "start_time": "2025-05-23T13:52:31.233Z"
   },
   {
    "duration": 6,
    "start_time": "2025-05-23T13:52:41.075Z"
   },
   {
    "duration": 7,
    "start_time": "2025-05-23T13:52:48.856Z"
   },
   {
    "duration": 14,
    "start_time": "2025-05-23T14:07:37.767Z"
   },
   {
    "duration": 7,
    "start_time": "2025-05-23T14:08:07.206Z"
   },
   {
    "duration": 21,
    "start_time": "2025-05-23T14:08:14.553Z"
   },
   {
    "duration": 19,
    "start_time": "2025-05-23T14:08:38.595Z"
   },
   {
    "duration": 1267,
    "start_time": "2025-05-23T14:10:19.143Z"
   },
   {
    "duration": 30,
    "start_time": "2025-05-23T14:10:21.910Z"
   },
   {
    "duration": 40,
    "start_time": "2025-05-23T14:10:35.433Z"
   },
   {
    "duration": 21,
    "start_time": "2025-05-23T14:10:56.188Z"
   },
   {
    "duration": 39,
    "start_time": "2025-05-23T14:12:11.817Z"
   },
   {
    "duration": 482,
    "start_time": "2025-05-23T14:13:02.842Z"
   },
   {
    "duration": 23,
    "start_time": "2025-05-23T14:16:25.123Z"
   },
   {
    "duration": 28,
    "start_time": "2025-05-23T14:17:13.096Z"
   },
   {
    "duration": 307,
    "start_time": "2025-05-23T14:17:22.623Z"
   },
   {
    "duration": 17,
    "start_time": "2025-05-23T14:17:33.873Z"
   },
   {
    "duration": 18,
    "start_time": "2025-05-23T14:18:27.757Z"
   },
   {
    "duration": 16,
    "start_time": "2025-05-23T14:18:33.317Z"
   },
   {
    "duration": 14,
    "start_time": "2025-05-23T14:20:35.105Z"
   },
   {
    "duration": 19,
    "start_time": "2025-05-23T14:26:03.537Z"
   },
   {
    "duration": 1247,
    "start_time": "2025-05-23T14:30:59.284Z"
   },
   {
    "duration": 1284,
    "start_time": "2025-05-23T14:31:13.204Z"
   },
   {
    "duration": 21,
    "start_time": "2025-05-23T14:31:21.966Z"
   },
   {
    "duration": 21,
    "start_time": "2025-05-23T14:31:27.453Z"
   },
   {
    "duration": 16,
    "start_time": "2025-05-23T14:32:24.931Z"
   },
   {
    "duration": 19,
    "start_time": "2025-05-23T14:32:27.324Z"
   },
   {
    "duration": 23,
    "start_time": "2025-05-23T14:32:33.167Z"
   },
   {
    "duration": 22,
    "start_time": "2025-05-23T14:32:43.528Z"
   },
   {
    "duration": 21,
    "start_time": "2025-05-23T14:33:33.863Z"
   },
   {
    "duration": 23,
    "start_time": "2025-05-23T14:33:39.200Z"
   },
   {
    "duration": 121,
    "start_time": "2025-05-23T14:50:00.003Z"
   },
   {
    "duration": 81,
    "start_time": "2025-05-23T16:58:27.333Z"
   },
   {
    "duration": 457,
    "start_time": "2025-05-23T17:03:40.276Z"
   },
   {
    "duration": 21,
    "start_time": "2025-05-23T17:03:40.735Z"
   },
   {
    "duration": 26,
    "start_time": "2025-05-23T17:03:40.758Z"
   },
   {
    "duration": 11,
    "start_time": "2025-05-23T17:03:40.786Z"
   },
   {
    "duration": 48,
    "start_time": "2025-05-23T17:03:40.798Z"
   },
   {
    "duration": 3,
    "start_time": "2025-05-23T17:03:40.848Z"
   },
   {
    "duration": 12,
    "start_time": "2025-05-23T17:03:40.852Z"
   },
   {
    "duration": 4,
    "start_time": "2025-05-23T17:03:40.866Z"
   },
   {
    "duration": 34,
    "start_time": "2025-05-23T17:03:40.872Z"
   },
   {
    "duration": 6,
    "start_time": "2025-05-23T17:03:40.910Z"
   },
   {
    "duration": 60,
    "start_time": "2025-05-23T17:03:40.917Z"
   },
   {
    "duration": 12,
    "start_time": "2025-05-23T17:03:40.980Z"
   },
   {
    "duration": 6,
    "start_time": "2025-05-23T17:03:40.994Z"
   },
   {
    "duration": 26,
    "start_time": "2025-05-23T17:03:41.002Z"
   },
   {
    "duration": 26,
    "start_time": "2025-05-23T17:03:41.030Z"
   },
   {
    "duration": 15,
    "start_time": "2025-05-23T17:03:41.058Z"
   },
   {
    "duration": 3,
    "start_time": "2025-05-23T17:03:41.075Z"
   },
   {
    "duration": 13,
    "start_time": "2025-05-23T17:03:41.079Z"
   },
   {
    "duration": 6,
    "start_time": "2025-05-23T17:03:41.093Z"
   },
   {
    "duration": 4,
    "start_time": "2025-05-23T17:03:41.100Z"
   },
   {
    "duration": 36,
    "start_time": "2025-05-23T17:03:41.105Z"
   },
   {
    "duration": 24,
    "start_time": "2025-05-23T17:03:41.143Z"
   },
   {
    "duration": 12,
    "start_time": "2025-05-23T17:03:41.168Z"
   },
   {
    "duration": 7,
    "start_time": "2025-05-23T17:03:41.181Z"
   },
   {
    "duration": 6,
    "start_time": "2025-05-23T17:03:41.189Z"
   },
   {
    "duration": 46,
    "start_time": "2025-05-23T17:03:41.197Z"
   },
   {
    "duration": 11,
    "start_time": "2025-05-23T17:03:41.245Z"
   },
   {
    "duration": 4,
    "start_time": "2025-05-23T17:03:41.259Z"
   },
   {
    "duration": 5,
    "start_time": "2025-05-23T17:07:49.582Z"
   },
   {
    "duration": 54,
    "start_time": "2025-05-23T19:00:57.037Z"
   },
   {
    "duration": 8,
    "start_time": "2025-05-23T19:01:01.001Z"
   },
   {
    "duration": 491,
    "start_time": "2025-05-23T19:01:06.696Z"
   },
   {
    "duration": 24,
    "start_time": "2025-05-23T19:01:07.189Z"
   },
   {
    "duration": 19,
    "start_time": "2025-05-23T19:01:07.214Z"
   },
   {
    "duration": 30,
    "start_time": "2025-05-23T19:01:07.234Z"
   },
   {
    "duration": 38,
    "start_time": "2025-05-23T19:01:07.266Z"
   },
   {
    "duration": 3,
    "start_time": "2025-05-23T19:01:07.306Z"
   },
   {
    "duration": 49,
    "start_time": "2025-05-23T19:01:07.311Z"
   },
   {
    "duration": 7,
    "start_time": "2025-05-23T19:01:07.361Z"
   },
   {
    "duration": 9,
    "start_time": "2025-05-23T19:01:07.369Z"
   },
   {
    "duration": 5,
    "start_time": "2025-05-23T19:01:07.379Z"
   },
   {
    "duration": 37,
    "start_time": "2025-05-23T19:01:07.385Z"
   },
   {
    "duration": 37,
    "start_time": "2025-05-23T19:01:07.424Z"
   },
   {
    "duration": 4,
    "start_time": "2025-05-23T19:01:07.463Z"
   },
   {
    "duration": 13,
    "start_time": "2025-05-23T19:01:07.470Z"
   },
   {
    "duration": 21,
    "start_time": "2025-05-23T19:01:07.485Z"
   },
   {
    "duration": 18,
    "start_time": "2025-05-23T19:01:07.508Z"
   },
   {
    "duration": 33,
    "start_time": "2025-05-23T19:01:07.528Z"
   },
   {
    "duration": 98,
    "start_time": "2025-05-23T19:01:07.563Z"
   },
   {
    "duration": 7,
    "start_time": "2025-05-23T19:01:07.662Z"
   },
   {
    "duration": 4,
    "start_time": "2025-05-23T19:01:07.670Z"
   },
   {
    "duration": 19,
    "start_time": "2025-05-23T19:01:07.675Z"
   },
   {
    "duration": 15,
    "start_time": "2025-05-23T19:01:07.695Z"
   },
   {
    "duration": 14,
    "start_time": "2025-05-23T19:01:07.711Z"
   },
   {
    "duration": 35,
    "start_time": "2025-05-23T19:01:07.726Z"
   },
   {
    "duration": 8,
    "start_time": "2025-05-23T19:01:07.762Z"
   },
   {
    "duration": 1385,
    "start_time": "2025-05-23T19:01:07.772Z"
   },
   {
    "duration": 72,
    "start_time": "2025-05-23T19:01:19.869Z"
   },
   {
    "duration": 74,
    "start_time": "2025-05-23T19:01:31.399Z"
   },
   {
    "duration": 23,
    "start_time": "2025-05-23T19:01:49.375Z"
   },
   {
    "duration": 74,
    "start_time": "2025-05-23T19:04:50.797Z"
   },
   {
    "duration": 16,
    "start_time": "2025-05-23T19:06:20.769Z"
   },
   {
    "duration": 17,
    "start_time": "2025-05-23T19:06:59.061Z"
   },
   {
    "duration": 19,
    "start_time": "2025-05-23T19:08:45.681Z"
   },
   {
    "duration": 20,
    "start_time": "2025-05-23T19:08:58.559Z"
   },
   {
    "duration": 21,
    "start_time": "2025-05-23T19:10:29.646Z"
   },
   {
    "duration": 23,
    "start_time": "2025-05-23T19:10:59.145Z"
   },
   {
    "duration": 23,
    "start_time": "2025-05-23T19:11:28.972Z"
   },
   {
    "duration": 104,
    "start_time": "2025-05-23T19:13:27.121Z"
   },
   {
    "duration": 180,
    "start_time": "2025-05-23T19:24:05.743Z"
   },
   {
    "duration": 80,
    "start_time": "2025-05-23T19:36:57.645Z"
   },
   {
    "duration": 70,
    "start_time": "2025-05-23T19:38:02.414Z"
   },
   {
    "duration": 19,
    "start_time": "2025-05-23T19:38:02.486Z"
   },
   {
    "duration": 66,
    "start_time": "2025-05-23T19:38:02.507Z"
   },
   {
    "duration": 12,
    "start_time": "2025-05-23T19:38:02.576Z"
   },
   {
    "duration": 57,
    "start_time": "2025-05-23T19:38:02.590Z"
   },
   {
    "duration": 16,
    "start_time": "2025-05-23T19:38:02.649Z"
   },
   {
    "duration": 12,
    "start_time": "2025-05-23T19:38:02.667Z"
   },
   {
    "duration": 5,
    "start_time": "2025-05-23T19:38:02.681Z"
   },
   {
    "duration": 27,
    "start_time": "2025-05-23T19:38:02.688Z"
   },
   {
    "duration": 12,
    "start_time": "2025-05-23T19:38:02.718Z"
   },
   {
    "duration": 39,
    "start_time": "2025-05-23T19:38:02.732Z"
   },
   {
    "duration": 12,
    "start_time": "2025-05-23T19:38:02.773Z"
   },
   {
    "duration": 5,
    "start_time": "2025-05-23T19:38:02.787Z"
   },
   {
    "duration": 109,
    "start_time": "2025-05-23T19:38:02.794Z"
   },
   {
    "duration": 31,
    "start_time": "2025-05-23T19:38:02.905Z"
   },
   {
    "duration": 21,
    "start_time": "2025-05-23T19:38:02.938Z"
   },
   {
    "duration": 5,
    "start_time": "2025-05-23T19:38:02.961Z"
   },
   {
    "duration": 13,
    "start_time": "2025-05-23T19:38:02.967Z"
   },
   {
    "duration": 6,
    "start_time": "2025-05-23T19:38:02.982Z"
   },
   {
    "duration": 4,
    "start_time": "2025-05-23T19:38:02.989Z"
   },
   {
    "duration": 23,
    "start_time": "2025-05-23T19:38:02.994Z"
   },
   {
    "duration": 22,
    "start_time": "2025-05-23T19:38:03.018Z"
   },
   {
    "duration": 28,
    "start_time": "2025-05-23T19:38:03.041Z"
   },
   {
    "duration": 8,
    "start_time": "2025-05-23T19:38:03.070Z"
   },
   {
    "duration": 12,
    "start_time": "2025-05-23T19:38:03.079Z"
   },
   {
    "duration": 32,
    "start_time": "2025-05-23T19:38:03.093Z"
   },
   {
    "duration": 36,
    "start_time": "2025-05-23T19:38:03.126Z"
   },
   {
    "duration": 5,
    "start_time": "2025-05-23T19:38:03.164Z"
   },
   {
    "duration": 438,
    "start_time": "2025-05-24T05:34:04.325Z"
   },
   {
    "duration": 21,
    "start_time": "2025-05-24T05:34:04.765Z"
   },
   {
    "duration": 23,
    "start_time": "2025-05-24T05:34:04.787Z"
   },
   {
    "duration": 10,
    "start_time": "2025-05-24T05:34:04.811Z"
   },
   {
    "duration": 41,
    "start_time": "2025-05-24T05:34:04.822Z"
   },
   {
    "duration": 3,
    "start_time": "2025-05-24T05:34:04.864Z"
   },
   {
    "duration": 30,
    "start_time": "2025-05-24T05:34:04.868Z"
   },
   {
    "duration": 5,
    "start_time": "2025-05-24T05:34:04.899Z"
   },
   {
    "duration": 7,
    "start_time": "2025-05-24T05:34:04.906Z"
   },
   {
    "duration": 4,
    "start_time": "2025-05-24T05:34:04.914Z"
   },
   {
    "duration": 40,
    "start_time": "2025-05-24T05:34:04.919Z"
   },
   {
    "duration": 10,
    "start_time": "2025-05-24T05:34:04.961Z"
   },
   {
    "duration": 29,
    "start_time": "2025-05-24T05:34:04.972Z"
   },
   {
    "duration": 11,
    "start_time": "2025-05-24T05:34:05.003Z"
   },
   {
    "duration": 20,
    "start_time": "2025-05-24T05:34:05.015Z"
   },
   {
    "duration": 15,
    "start_time": "2025-05-24T05:34:05.036Z"
   },
   {
    "duration": 3,
    "start_time": "2025-05-24T05:34:05.053Z"
   },
   {
    "duration": 12,
    "start_time": "2025-05-24T05:34:05.057Z"
   },
   {
    "duration": 27,
    "start_time": "2025-05-24T05:34:05.070Z"
   },
   {
    "duration": 12,
    "start_time": "2025-05-24T05:34:05.099Z"
   },
   {
    "duration": 11,
    "start_time": "2025-05-24T05:34:05.112Z"
   },
   {
    "duration": 21,
    "start_time": "2025-05-24T05:34:05.124Z"
   },
   {
    "duration": 12,
    "start_time": "2025-05-24T05:34:05.146Z"
   },
   {
    "duration": 6,
    "start_time": "2025-05-24T05:34:05.159Z"
   },
   {
    "duration": 31,
    "start_time": "2025-05-24T05:34:05.166Z"
   },
   {
    "duration": 21,
    "start_time": "2025-05-24T05:34:05.199Z"
   },
   {
    "duration": 11,
    "start_time": "2025-05-24T05:34:05.221Z"
   },
   {
    "duration": 4,
    "start_time": "2025-05-24T05:34:05.233Z"
   },
   {
    "duration": 64,
    "start_time": "2025-05-24T05:34:48.573Z"
   },
   {
    "duration": 24,
    "start_time": "2025-05-24T05:35:02.138Z"
   },
   {
    "duration": 456,
    "start_time": "2025-05-24T07:01:36.932Z"
   },
   {
    "duration": 25,
    "start_time": "2025-05-24T07:01:37.390Z"
   },
   {
    "duration": 14,
    "start_time": "2025-05-24T07:01:37.417Z"
   },
   {
    "duration": 11,
    "start_time": "2025-05-24T07:01:37.432Z"
   },
   {
    "duration": 42,
    "start_time": "2025-05-24T07:01:37.461Z"
   },
   {
    "duration": 3,
    "start_time": "2025-05-24T07:01:37.505Z"
   },
   {
    "duration": 15,
    "start_time": "2025-05-24T07:01:37.509Z"
   },
   {
    "duration": 23,
    "start_time": "2025-05-24T07:01:37.526Z"
   },
   {
    "duration": 9,
    "start_time": "2025-05-24T07:01:37.550Z"
   },
   {
    "duration": 4,
    "start_time": "2025-05-24T07:01:37.563Z"
   },
   {
    "duration": 37,
    "start_time": "2025-05-24T07:01:37.568Z"
   },
   {
    "duration": 10,
    "start_time": "2025-05-24T07:01:37.607Z"
   },
   {
    "duration": 7,
    "start_time": "2025-05-24T07:01:37.618Z"
   },
   {
    "duration": 13,
    "start_time": "2025-05-24T07:01:37.627Z"
   },
   {
    "duration": 31,
    "start_time": "2025-05-24T07:01:37.641Z"
   },
   {
    "duration": 17,
    "start_time": "2025-05-24T07:01:37.673Z"
   },
   {
    "duration": 25,
    "start_time": "2025-05-24T07:01:37.691Z"
   },
   {
    "duration": 12,
    "start_time": "2025-05-24T07:01:37.717Z"
   },
   {
    "duration": 15,
    "start_time": "2025-05-24T07:01:37.730Z"
   },
   {
    "duration": 12,
    "start_time": "2025-05-24T07:01:37.747Z"
   },
   {
    "duration": 22,
    "start_time": "2025-05-24T07:01:37.760Z"
   },
   {
    "duration": 18,
    "start_time": "2025-05-24T07:01:37.784Z"
   },
   {
    "duration": 22,
    "start_time": "2025-05-24T07:01:37.803Z"
   },
   {
    "duration": 7,
    "start_time": "2025-05-24T07:01:37.827Z"
   },
   {
    "duration": 6,
    "start_time": "2025-05-24T07:01:37.835Z"
   },
   {
    "duration": 32,
    "start_time": "2025-05-24T07:01:37.843Z"
   },
   {
    "duration": 13,
    "start_time": "2025-05-24T07:01:37.877Z"
   },
   {
    "duration": 27,
    "start_time": "2025-05-24T07:01:37.893Z"
   }
  ],
  "colab": {
   "name": "dpp_template_part2.ipynb",
   "provenance": []
  },
  "kernelspec": {
   "display_name": "Python 3 (ipykernel)",
   "language": "python",
   "name": "python3"
  },
  "language_info": {
   "codemirror_mode": {
    "name": "ipython",
    "version": 3
   },
   "file_extension": ".py",
   "mimetype": "text/x-python",
   "name": "python",
   "nbconvert_exporter": "python",
   "pygments_lexer": "ipython3",
   "version": "3.9.5"
  },
  "toc": {
   "base_numbering": 1,
   "nav_menu": {},
   "number_sections": true,
   "sideBar": true,
   "skip_h1_title": true,
   "title_cell": "Table of Contents",
   "title_sidebar": "Contents",
   "toc_cell": false,
   "toc_position": {},
   "toc_section_display": true,
   "toc_window_display": false
  }
 },
 "nbformat": 4,
 "nbformat_minor": 5
}
